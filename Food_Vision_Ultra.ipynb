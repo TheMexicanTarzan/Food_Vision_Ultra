{
  "nbformat": 4,
  "nbformat_minor": 0,
  "metadata": {
    "colab": {
      "provenance": [],
      "gpuType": "A100",
      "machine_shape": "hm"
    },
    "kernelspec": {
      "name": "python3",
      "display_name": "Python 3"
    },
    "language_info": {
      "name": "python"
    },
    "accelerator": "GPU",
    "widgets": {
      "application/vnd.jupyter.widget-state+json": {
        "a693aba06c654137b8120a4032002f47": {
          "model_module": "@jupyter-widgets/controls",
          "model_name": "HBoxModel",
          "model_module_version": "1.5.0",
          "state": {
            "_dom_classes": [],
            "_model_module": "@jupyter-widgets/controls",
            "_model_module_version": "1.5.0",
            "_model_name": "HBoxModel",
            "_view_count": null,
            "_view_module": "@jupyter-widgets/controls",
            "_view_module_version": "1.5.0",
            "_view_name": "HBoxView",
            "box_style": "",
            "children": [
              "IPY_MODEL_e0eaf0118d9b4125a7f4f687d3afc24d",
              "IPY_MODEL_10ef863f05f4431f989709e1d0802acd",
              "IPY_MODEL_e9980dd1755f41108cb390dcbda3cc1d"
            ],
            "layout": "IPY_MODEL_7bd8de366f744657b2f0a38df096002a"
          }
        },
        "e0eaf0118d9b4125a7f4f687d3afc24d": {
          "model_module": "@jupyter-widgets/controls",
          "model_name": "HTMLModel",
          "model_module_version": "1.5.0",
          "state": {
            "_dom_classes": [],
            "_model_module": "@jupyter-widgets/controls",
            "_model_module_version": "1.5.0",
            "_model_name": "HTMLModel",
            "_view_count": null,
            "_view_module": "@jupyter-widgets/controls",
            "_view_module_version": "1.5.0",
            "_view_name": "HTMLView",
            "description": "",
            "description_tooltip": null,
            "layout": "IPY_MODEL_c6e1854a70c7445f9960dccd35b3291a",
            "placeholder": "​",
            "style": "IPY_MODEL_4adacdfcb7934564bd50554763d92bf0",
            "value": "Dl Completed...: 100%"
          }
        },
        "10ef863f05f4431f989709e1d0802acd": {
          "model_module": "@jupyter-widgets/controls",
          "model_name": "FloatProgressModel",
          "model_module_version": "1.5.0",
          "state": {
            "_dom_classes": [],
            "_model_module": "@jupyter-widgets/controls",
            "_model_module_version": "1.5.0",
            "_model_name": "FloatProgressModel",
            "_view_count": null,
            "_view_module": "@jupyter-widgets/controls",
            "_view_module_version": "1.5.0",
            "_view_name": "ProgressView",
            "bar_style": "success",
            "description": "",
            "description_tooltip": null,
            "layout": "IPY_MODEL_5ee2f7b7ed7a4f46bb2fe40ac86889e6",
            "max": 1,
            "min": 0,
            "orientation": "horizontal",
            "style": "IPY_MODEL_add447fb92b04f34bfd19d241e4bd20a",
            "value": 1
          }
        },
        "e9980dd1755f41108cb390dcbda3cc1d": {
          "model_module": "@jupyter-widgets/controls",
          "model_name": "HTMLModel",
          "model_module_version": "1.5.0",
          "state": {
            "_dom_classes": [],
            "_model_module": "@jupyter-widgets/controls",
            "_model_module_version": "1.5.0",
            "_model_name": "HTMLModel",
            "_view_count": null,
            "_view_module": "@jupyter-widgets/controls",
            "_view_module_version": "1.5.0",
            "_view_name": "HTMLView",
            "description": "",
            "description_tooltip": null,
            "layout": "IPY_MODEL_31a25850f2a54e209ecadd11564ab7d3",
            "placeholder": "​",
            "style": "IPY_MODEL_d72d3849604c440ea74fdabbd8f0e973",
            "value": " 1/1 [06:14&lt;00:00, 190.47s/ url]"
          }
        },
        "7bd8de366f744657b2f0a38df096002a": {
          "model_module": "@jupyter-widgets/base",
          "model_name": "LayoutModel",
          "model_module_version": "1.2.0",
          "state": {
            "_model_module": "@jupyter-widgets/base",
            "_model_module_version": "1.2.0",
            "_model_name": "LayoutModel",
            "_view_count": null,
            "_view_module": "@jupyter-widgets/base",
            "_view_module_version": "1.2.0",
            "_view_name": "LayoutView",
            "align_content": null,
            "align_items": null,
            "align_self": null,
            "border": null,
            "bottom": null,
            "display": null,
            "flex": null,
            "flex_flow": null,
            "grid_area": null,
            "grid_auto_columns": null,
            "grid_auto_flow": null,
            "grid_auto_rows": null,
            "grid_column": null,
            "grid_gap": null,
            "grid_row": null,
            "grid_template_areas": null,
            "grid_template_columns": null,
            "grid_template_rows": null,
            "height": null,
            "justify_content": null,
            "justify_items": null,
            "left": null,
            "margin": null,
            "max_height": null,
            "max_width": null,
            "min_height": null,
            "min_width": null,
            "object_fit": null,
            "object_position": null,
            "order": null,
            "overflow": null,
            "overflow_x": null,
            "overflow_y": null,
            "padding": null,
            "right": null,
            "top": null,
            "visibility": null,
            "width": null
          }
        },
        "c6e1854a70c7445f9960dccd35b3291a": {
          "model_module": "@jupyter-widgets/base",
          "model_name": "LayoutModel",
          "model_module_version": "1.2.0",
          "state": {
            "_model_module": "@jupyter-widgets/base",
            "_model_module_version": "1.2.0",
            "_model_name": "LayoutModel",
            "_view_count": null,
            "_view_module": "@jupyter-widgets/base",
            "_view_module_version": "1.2.0",
            "_view_name": "LayoutView",
            "align_content": null,
            "align_items": null,
            "align_self": null,
            "border": null,
            "bottom": null,
            "display": null,
            "flex": null,
            "flex_flow": null,
            "grid_area": null,
            "grid_auto_columns": null,
            "grid_auto_flow": null,
            "grid_auto_rows": null,
            "grid_column": null,
            "grid_gap": null,
            "grid_row": null,
            "grid_template_areas": null,
            "grid_template_columns": null,
            "grid_template_rows": null,
            "height": null,
            "justify_content": null,
            "justify_items": null,
            "left": null,
            "margin": null,
            "max_height": null,
            "max_width": null,
            "min_height": null,
            "min_width": null,
            "object_fit": null,
            "object_position": null,
            "order": null,
            "overflow": null,
            "overflow_x": null,
            "overflow_y": null,
            "padding": null,
            "right": null,
            "top": null,
            "visibility": null,
            "width": null
          }
        },
        "4adacdfcb7934564bd50554763d92bf0": {
          "model_module": "@jupyter-widgets/controls",
          "model_name": "DescriptionStyleModel",
          "model_module_version": "1.5.0",
          "state": {
            "_model_module": "@jupyter-widgets/controls",
            "_model_module_version": "1.5.0",
            "_model_name": "DescriptionStyleModel",
            "_view_count": null,
            "_view_module": "@jupyter-widgets/base",
            "_view_module_version": "1.2.0",
            "_view_name": "StyleView",
            "description_width": ""
          }
        },
        "5ee2f7b7ed7a4f46bb2fe40ac86889e6": {
          "model_module": "@jupyter-widgets/base",
          "model_name": "LayoutModel",
          "model_module_version": "1.2.0",
          "state": {
            "_model_module": "@jupyter-widgets/base",
            "_model_module_version": "1.2.0",
            "_model_name": "LayoutModel",
            "_view_count": null,
            "_view_module": "@jupyter-widgets/base",
            "_view_module_version": "1.2.0",
            "_view_name": "LayoutView",
            "align_content": null,
            "align_items": null,
            "align_self": null,
            "border": null,
            "bottom": null,
            "display": null,
            "flex": null,
            "flex_flow": null,
            "grid_area": null,
            "grid_auto_columns": null,
            "grid_auto_flow": null,
            "grid_auto_rows": null,
            "grid_column": null,
            "grid_gap": null,
            "grid_row": null,
            "grid_template_areas": null,
            "grid_template_columns": null,
            "grid_template_rows": null,
            "height": null,
            "justify_content": null,
            "justify_items": null,
            "left": null,
            "margin": null,
            "max_height": null,
            "max_width": null,
            "min_height": null,
            "min_width": null,
            "object_fit": null,
            "object_position": null,
            "order": null,
            "overflow": null,
            "overflow_x": null,
            "overflow_y": null,
            "padding": null,
            "right": null,
            "top": null,
            "visibility": null,
            "width": "20px"
          }
        },
        "add447fb92b04f34bfd19d241e4bd20a": {
          "model_module": "@jupyter-widgets/controls",
          "model_name": "ProgressStyleModel",
          "model_module_version": "1.5.0",
          "state": {
            "_model_module": "@jupyter-widgets/controls",
            "_model_module_version": "1.5.0",
            "_model_name": "ProgressStyleModel",
            "_view_count": null,
            "_view_module": "@jupyter-widgets/base",
            "_view_module_version": "1.2.0",
            "_view_name": "StyleView",
            "bar_color": null,
            "description_width": ""
          }
        },
        "31a25850f2a54e209ecadd11564ab7d3": {
          "model_module": "@jupyter-widgets/base",
          "model_name": "LayoutModel",
          "model_module_version": "1.2.0",
          "state": {
            "_model_module": "@jupyter-widgets/base",
            "_model_module_version": "1.2.0",
            "_model_name": "LayoutModel",
            "_view_count": null,
            "_view_module": "@jupyter-widgets/base",
            "_view_module_version": "1.2.0",
            "_view_name": "LayoutView",
            "align_content": null,
            "align_items": null,
            "align_self": null,
            "border": null,
            "bottom": null,
            "display": null,
            "flex": null,
            "flex_flow": null,
            "grid_area": null,
            "grid_auto_columns": null,
            "grid_auto_flow": null,
            "grid_auto_rows": null,
            "grid_column": null,
            "grid_gap": null,
            "grid_row": null,
            "grid_template_areas": null,
            "grid_template_columns": null,
            "grid_template_rows": null,
            "height": null,
            "justify_content": null,
            "justify_items": null,
            "left": null,
            "margin": null,
            "max_height": null,
            "max_width": null,
            "min_height": null,
            "min_width": null,
            "object_fit": null,
            "object_position": null,
            "order": null,
            "overflow": null,
            "overflow_x": null,
            "overflow_y": null,
            "padding": null,
            "right": null,
            "top": null,
            "visibility": null,
            "width": null
          }
        },
        "d72d3849604c440ea74fdabbd8f0e973": {
          "model_module": "@jupyter-widgets/controls",
          "model_name": "DescriptionStyleModel",
          "model_module_version": "1.5.0",
          "state": {
            "_model_module": "@jupyter-widgets/controls",
            "_model_module_version": "1.5.0",
            "_model_name": "DescriptionStyleModel",
            "_view_count": null,
            "_view_module": "@jupyter-widgets/base",
            "_view_module_version": "1.2.0",
            "_view_name": "StyleView",
            "description_width": ""
          }
        },
        "3e659611b2134d2aa4366e52d791a2c6": {
          "model_module": "@jupyter-widgets/controls",
          "model_name": "HBoxModel",
          "model_module_version": "1.5.0",
          "state": {
            "_dom_classes": [],
            "_model_module": "@jupyter-widgets/controls",
            "_model_module_version": "1.5.0",
            "_model_name": "HBoxModel",
            "_view_count": null,
            "_view_module": "@jupyter-widgets/controls",
            "_view_module_version": "1.5.0",
            "_view_name": "HBoxView",
            "box_style": "",
            "children": [
              "IPY_MODEL_857baa83537a485d800ca890e54b4de7",
              "IPY_MODEL_a6025f7da43747f6bb55d068d1e41660",
              "IPY_MODEL_1e17ab9428ae4b41b212a1bb418611a2"
            ],
            "layout": "IPY_MODEL_8ff77c93848e4bd480732fde3e24cec8"
          }
        },
        "857baa83537a485d800ca890e54b4de7": {
          "model_module": "@jupyter-widgets/controls",
          "model_name": "HTMLModel",
          "model_module_version": "1.5.0",
          "state": {
            "_dom_classes": [],
            "_model_module": "@jupyter-widgets/controls",
            "_model_module_version": "1.5.0",
            "_model_name": "HTMLModel",
            "_view_count": null,
            "_view_module": "@jupyter-widgets/controls",
            "_view_module_version": "1.5.0",
            "_view_name": "HTMLView",
            "description": "",
            "description_tooltip": null,
            "layout": "IPY_MODEL_7f93505534b84f39b7d9be2c2ae08657",
            "placeholder": "​",
            "style": "IPY_MODEL_6ff5aecc11514281914c93aef5c18c70",
            "value": "Dl Size...: 100%"
          }
        },
        "a6025f7da43747f6bb55d068d1e41660": {
          "model_module": "@jupyter-widgets/controls",
          "model_name": "FloatProgressModel",
          "model_module_version": "1.5.0",
          "state": {
            "_dom_classes": [],
            "_model_module": "@jupyter-widgets/controls",
            "_model_module_version": "1.5.0",
            "_model_name": "FloatProgressModel",
            "_view_count": null,
            "_view_module": "@jupyter-widgets/controls",
            "_view_module_version": "1.5.0",
            "_view_name": "ProgressView",
            "bar_style": "success",
            "description": "",
            "description_tooltip": null,
            "layout": "IPY_MODEL_ed6df5efcdc449aaade9bcb8318bc4b7",
            "max": 1,
            "min": 0,
            "orientation": "horizontal",
            "style": "IPY_MODEL_1096cd8404f442e2b5993f29f2b87f8f",
            "value": 1
          }
        },
        "1e17ab9428ae4b41b212a1bb418611a2": {
          "model_module": "@jupyter-widgets/controls",
          "model_name": "HTMLModel",
          "model_module_version": "1.5.0",
          "state": {
            "_dom_classes": [],
            "_model_module": "@jupyter-widgets/controls",
            "_model_module_version": "1.5.0",
            "_model_name": "HTMLModel",
            "_view_count": null,
            "_view_module": "@jupyter-widgets/controls",
            "_view_module_version": "1.5.0",
            "_view_name": "HTMLView",
            "description": "",
            "description_tooltip": null,
            "layout": "IPY_MODEL_e83aea8ff6bc4a4d8c521fada6912edb",
            "placeholder": "​",
            "style": "IPY_MODEL_2c9600f3ca114188bba6b0190bf12552",
            "value": " 4764/4764 [06:13&lt;00:00, 25.15 MiB/s]"
          }
        },
        "8ff77c93848e4bd480732fde3e24cec8": {
          "model_module": "@jupyter-widgets/base",
          "model_name": "LayoutModel",
          "model_module_version": "1.2.0",
          "state": {
            "_model_module": "@jupyter-widgets/base",
            "_model_module_version": "1.2.0",
            "_model_name": "LayoutModel",
            "_view_count": null,
            "_view_module": "@jupyter-widgets/base",
            "_view_module_version": "1.2.0",
            "_view_name": "LayoutView",
            "align_content": null,
            "align_items": null,
            "align_self": null,
            "border": null,
            "bottom": null,
            "display": null,
            "flex": null,
            "flex_flow": null,
            "grid_area": null,
            "grid_auto_columns": null,
            "grid_auto_flow": null,
            "grid_auto_rows": null,
            "grid_column": null,
            "grid_gap": null,
            "grid_row": null,
            "grid_template_areas": null,
            "grid_template_columns": null,
            "grid_template_rows": null,
            "height": null,
            "justify_content": null,
            "justify_items": null,
            "left": null,
            "margin": null,
            "max_height": null,
            "max_width": null,
            "min_height": null,
            "min_width": null,
            "object_fit": null,
            "object_position": null,
            "order": null,
            "overflow": null,
            "overflow_x": null,
            "overflow_y": null,
            "padding": null,
            "right": null,
            "top": null,
            "visibility": null,
            "width": null
          }
        },
        "7f93505534b84f39b7d9be2c2ae08657": {
          "model_module": "@jupyter-widgets/base",
          "model_name": "LayoutModel",
          "model_module_version": "1.2.0",
          "state": {
            "_model_module": "@jupyter-widgets/base",
            "_model_module_version": "1.2.0",
            "_model_name": "LayoutModel",
            "_view_count": null,
            "_view_module": "@jupyter-widgets/base",
            "_view_module_version": "1.2.0",
            "_view_name": "LayoutView",
            "align_content": null,
            "align_items": null,
            "align_self": null,
            "border": null,
            "bottom": null,
            "display": null,
            "flex": null,
            "flex_flow": null,
            "grid_area": null,
            "grid_auto_columns": null,
            "grid_auto_flow": null,
            "grid_auto_rows": null,
            "grid_column": null,
            "grid_gap": null,
            "grid_row": null,
            "grid_template_areas": null,
            "grid_template_columns": null,
            "grid_template_rows": null,
            "height": null,
            "justify_content": null,
            "justify_items": null,
            "left": null,
            "margin": null,
            "max_height": null,
            "max_width": null,
            "min_height": null,
            "min_width": null,
            "object_fit": null,
            "object_position": null,
            "order": null,
            "overflow": null,
            "overflow_x": null,
            "overflow_y": null,
            "padding": null,
            "right": null,
            "top": null,
            "visibility": null,
            "width": null
          }
        },
        "6ff5aecc11514281914c93aef5c18c70": {
          "model_module": "@jupyter-widgets/controls",
          "model_name": "DescriptionStyleModel",
          "model_module_version": "1.5.0",
          "state": {
            "_model_module": "@jupyter-widgets/controls",
            "_model_module_version": "1.5.0",
            "_model_name": "DescriptionStyleModel",
            "_view_count": null,
            "_view_module": "@jupyter-widgets/base",
            "_view_module_version": "1.2.0",
            "_view_name": "StyleView",
            "description_width": ""
          }
        },
        "ed6df5efcdc449aaade9bcb8318bc4b7": {
          "model_module": "@jupyter-widgets/base",
          "model_name": "LayoutModel",
          "model_module_version": "1.2.0",
          "state": {
            "_model_module": "@jupyter-widgets/base",
            "_model_module_version": "1.2.0",
            "_model_name": "LayoutModel",
            "_view_count": null,
            "_view_module": "@jupyter-widgets/base",
            "_view_module_version": "1.2.0",
            "_view_name": "LayoutView",
            "align_content": null,
            "align_items": null,
            "align_self": null,
            "border": null,
            "bottom": null,
            "display": null,
            "flex": null,
            "flex_flow": null,
            "grid_area": null,
            "grid_auto_columns": null,
            "grid_auto_flow": null,
            "grid_auto_rows": null,
            "grid_column": null,
            "grid_gap": null,
            "grid_row": null,
            "grid_template_areas": null,
            "grid_template_columns": null,
            "grid_template_rows": null,
            "height": null,
            "justify_content": null,
            "justify_items": null,
            "left": null,
            "margin": null,
            "max_height": null,
            "max_width": null,
            "min_height": null,
            "min_width": null,
            "object_fit": null,
            "object_position": null,
            "order": null,
            "overflow": null,
            "overflow_x": null,
            "overflow_y": null,
            "padding": null,
            "right": null,
            "top": null,
            "visibility": null,
            "width": "20px"
          }
        },
        "1096cd8404f442e2b5993f29f2b87f8f": {
          "model_module": "@jupyter-widgets/controls",
          "model_name": "ProgressStyleModel",
          "model_module_version": "1.5.0",
          "state": {
            "_model_module": "@jupyter-widgets/controls",
            "_model_module_version": "1.5.0",
            "_model_name": "ProgressStyleModel",
            "_view_count": null,
            "_view_module": "@jupyter-widgets/base",
            "_view_module_version": "1.2.0",
            "_view_name": "StyleView",
            "bar_color": null,
            "description_width": ""
          }
        },
        "e83aea8ff6bc4a4d8c521fada6912edb": {
          "model_module": "@jupyter-widgets/base",
          "model_name": "LayoutModel",
          "model_module_version": "1.2.0",
          "state": {
            "_model_module": "@jupyter-widgets/base",
            "_model_module_version": "1.2.0",
            "_model_name": "LayoutModel",
            "_view_count": null,
            "_view_module": "@jupyter-widgets/base",
            "_view_module_version": "1.2.0",
            "_view_name": "LayoutView",
            "align_content": null,
            "align_items": null,
            "align_self": null,
            "border": null,
            "bottom": null,
            "display": null,
            "flex": null,
            "flex_flow": null,
            "grid_area": null,
            "grid_auto_columns": null,
            "grid_auto_flow": null,
            "grid_auto_rows": null,
            "grid_column": null,
            "grid_gap": null,
            "grid_row": null,
            "grid_template_areas": null,
            "grid_template_columns": null,
            "grid_template_rows": null,
            "height": null,
            "justify_content": null,
            "justify_items": null,
            "left": null,
            "margin": null,
            "max_height": null,
            "max_width": null,
            "min_height": null,
            "min_width": null,
            "object_fit": null,
            "object_position": null,
            "order": null,
            "overflow": null,
            "overflow_x": null,
            "overflow_y": null,
            "padding": null,
            "right": null,
            "top": null,
            "visibility": null,
            "width": null
          }
        },
        "2c9600f3ca114188bba6b0190bf12552": {
          "model_module": "@jupyter-widgets/controls",
          "model_name": "DescriptionStyleModel",
          "model_module_version": "1.5.0",
          "state": {
            "_model_module": "@jupyter-widgets/controls",
            "_model_module_version": "1.5.0",
            "_model_name": "DescriptionStyleModel",
            "_view_count": null,
            "_view_module": "@jupyter-widgets/base",
            "_view_module_version": "1.2.0",
            "_view_name": "StyleView",
            "description_width": ""
          }
        },
        "5c9285dfe8174d0f899eab341e0d35b3": {
          "model_module": "@jupyter-widgets/controls",
          "model_name": "HBoxModel",
          "model_module_version": "1.5.0",
          "state": {
            "_dom_classes": [],
            "_model_module": "@jupyter-widgets/controls",
            "_model_module_version": "1.5.0",
            "_model_name": "HBoxModel",
            "_view_count": null,
            "_view_module": "@jupyter-widgets/controls",
            "_view_module_version": "1.5.0",
            "_view_name": "HBoxView",
            "box_style": "",
            "children": [
              "IPY_MODEL_9ad5ac74a07441bc9868cae8a66b1273",
              "IPY_MODEL_97ecc20fa52441479814007b0c6aff24",
              "IPY_MODEL_8ff956b98a6b428e81b79bb1a88b4c14"
            ],
            "layout": "IPY_MODEL_40bebe6c784941ea993abb99d4863bee"
          }
        },
        "9ad5ac74a07441bc9868cae8a66b1273": {
          "model_module": "@jupyter-widgets/controls",
          "model_name": "HTMLModel",
          "model_module_version": "1.5.0",
          "state": {
            "_dom_classes": [],
            "_model_module": "@jupyter-widgets/controls",
            "_model_module_version": "1.5.0",
            "_model_name": "HTMLModel",
            "_view_count": null,
            "_view_module": "@jupyter-widgets/controls",
            "_view_module_version": "1.5.0",
            "_view_name": "HTMLView",
            "description": "",
            "description_tooltip": null,
            "layout": "IPY_MODEL_7b4e216389ab4abab24ea458d693b4e2",
            "placeholder": "​",
            "style": "IPY_MODEL_4046c237fa7c489695ab372d64b0ce28",
            "value": "Extraction completed...: 100%"
          }
        },
        "97ecc20fa52441479814007b0c6aff24": {
          "model_module": "@jupyter-widgets/controls",
          "model_name": "FloatProgressModel",
          "model_module_version": "1.5.0",
          "state": {
            "_dom_classes": [],
            "_model_module": "@jupyter-widgets/controls",
            "_model_module_version": "1.5.0",
            "_model_name": "FloatProgressModel",
            "_view_count": null,
            "_view_module": "@jupyter-widgets/controls",
            "_view_module_version": "1.5.0",
            "_view_name": "ProgressView",
            "bar_style": "success",
            "description": "",
            "description_tooltip": null,
            "layout": "IPY_MODEL_48e0d110d42a4f53bf32b09c03181a9b",
            "max": 1,
            "min": 0,
            "orientation": "horizontal",
            "style": "IPY_MODEL_c95fae811a7043d988f497a040659ca7",
            "value": 1
          }
        },
        "8ff956b98a6b428e81b79bb1a88b4c14": {
          "model_module": "@jupyter-widgets/controls",
          "model_name": "HTMLModel",
          "model_module_version": "1.5.0",
          "state": {
            "_dom_classes": [],
            "_model_module": "@jupyter-widgets/controls",
            "_model_module_version": "1.5.0",
            "_model_name": "HTMLModel",
            "_view_count": null,
            "_view_module": "@jupyter-widgets/controls",
            "_view_module_version": "1.5.0",
            "_view_name": "HTMLView",
            "description": "",
            "description_tooltip": null,
            "layout": "IPY_MODEL_c9de1d67ed434886bc9cd302b31009ee",
            "placeholder": "​",
            "style": "IPY_MODEL_847e1de0dd2d4e43be8afb1071c02692",
            "value": " 101008/101008 [06:13&lt;00:00, 2931.36 file/s]"
          }
        },
        "40bebe6c784941ea993abb99d4863bee": {
          "model_module": "@jupyter-widgets/base",
          "model_name": "LayoutModel",
          "model_module_version": "1.2.0",
          "state": {
            "_model_module": "@jupyter-widgets/base",
            "_model_module_version": "1.2.0",
            "_model_name": "LayoutModel",
            "_view_count": null,
            "_view_module": "@jupyter-widgets/base",
            "_view_module_version": "1.2.0",
            "_view_name": "LayoutView",
            "align_content": null,
            "align_items": null,
            "align_self": null,
            "border": null,
            "bottom": null,
            "display": null,
            "flex": null,
            "flex_flow": null,
            "grid_area": null,
            "grid_auto_columns": null,
            "grid_auto_flow": null,
            "grid_auto_rows": null,
            "grid_column": null,
            "grid_gap": null,
            "grid_row": null,
            "grid_template_areas": null,
            "grid_template_columns": null,
            "grid_template_rows": null,
            "height": null,
            "justify_content": null,
            "justify_items": null,
            "left": null,
            "margin": null,
            "max_height": null,
            "max_width": null,
            "min_height": null,
            "min_width": null,
            "object_fit": null,
            "object_position": null,
            "order": null,
            "overflow": null,
            "overflow_x": null,
            "overflow_y": null,
            "padding": null,
            "right": null,
            "top": null,
            "visibility": null,
            "width": null
          }
        },
        "7b4e216389ab4abab24ea458d693b4e2": {
          "model_module": "@jupyter-widgets/base",
          "model_name": "LayoutModel",
          "model_module_version": "1.2.0",
          "state": {
            "_model_module": "@jupyter-widgets/base",
            "_model_module_version": "1.2.0",
            "_model_name": "LayoutModel",
            "_view_count": null,
            "_view_module": "@jupyter-widgets/base",
            "_view_module_version": "1.2.0",
            "_view_name": "LayoutView",
            "align_content": null,
            "align_items": null,
            "align_self": null,
            "border": null,
            "bottom": null,
            "display": null,
            "flex": null,
            "flex_flow": null,
            "grid_area": null,
            "grid_auto_columns": null,
            "grid_auto_flow": null,
            "grid_auto_rows": null,
            "grid_column": null,
            "grid_gap": null,
            "grid_row": null,
            "grid_template_areas": null,
            "grid_template_columns": null,
            "grid_template_rows": null,
            "height": null,
            "justify_content": null,
            "justify_items": null,
            "left": null,
            "margin": null,
            "max_height": null,
            "max_width": null,
            "min_height": null,
            "min_width": null,
            "object_fit": null,
            "object_position": null,
            "order": null,
            "overflow": null,
            "overflow_x": null,
            "overflow_y": null,
            "padding": null,
            "right": null,
            "top": null,
            "visibility": null,
            "width": null
          }
        },
        "4046c237fa7c489695ab372d64b0ce28": {
          "model_module": "@jupyter-widgets/controls",
          "model_name": "DescriptionStyleModel",
          "model_module_version": "1.5.0",
          "state": {
            "_model_module": "@jupyter-widgets/controls",
            "_model_module_version": "1.5.0",
            "_model_name": "DescriptionStyleModel",
            "_view_count": null,
            "_view_module": "@jupyter-widgets/base",
            "_view_module_version": "1.2.0",
            "_view_name": "StyleView",
            "description_width": ""
          }
        },
        "48e0d110d42a4f53bf32b09c03181a9b": {
          "model_module": "@jupyter-widgets/base",
          "model_name": "LayoutModel",
          "model_module_version": "1.2.0",
          "state": {
            "_model_module": "@jupyter-widgets/base",
            "_model_module_version": "1.2.0",
            "_model_name": "LayoutModel",
            "_view_count": null,
            "_view_module": "@jupyter-widgets/base",
            "_view_module_version": "1.2.0",
            "_view_name": "LayoutView",
            "align_content": null,
            "align_items": null,
            "align_self": null,
            "border": null,
            "bottom": null,
            "display": null,
            "flex": null,
            "flex_flow": null,
            "grid_area": null,
            "grid_auto_columns": null,
            "grid_auto_flow": null,
            "grid_auto_rows": null,
            "grid_column": null,
            "grid_gap": null,
            "grid_row": null,
            "grid_template_areas": null,
            "grid_template_columns": null,
            "grid_template_rows": null,
            "height": null,
            "justify_content": null,
            "justify_items": null,
            "left": null,
            "margin": null,
            "max_height": null,
            "max_width": null,
            "min_height": null,
            "min_width": null,
            "object_fit": null,
            "object_position": null,
            "order": null,
            "overflow": null,
            "overflow_x": null,
            "overflow_y": null,
            "padding": null,
            "right": null,
            "top": null,
            "visibility": null,
            "width": "20px"
          }
        },
        "c95fae811a7043d988f497a040659ca7": {
          "model_module": "@jupyter-widgets/controls",
          "model_name": "ProgressStyleModel",
          "model_module_version": "1.5.0",
          "state": {
            "_model_module": "@jupyter-widgets/controls",
            "_model_module_version": "1.5.0",
            "_model_name": "ProgressStyleModel",
            "_view_count": null,
            "_view_module": "@jupyter-widgets/base",
            "_view_module_version": "1.2.0",
            "_view_name": "StyleView",
            "bar_color": null,
            "description_width": ""
          }
        },
        "c9de1d67ed434886bc9cd302b31009ee": {
          "model_module": "@jupyter-widgets/base",
          "model_name": "LayoutModel",
          "model_module_version": "1.2.0",
          "state": {
            "_model_module": "@jupyter-widgets/base",
            "_model_module_version": "1.2.0",
            "_model_name": "LayoutModel",
            "_view_count": null,
            "_view_module": "@jupyter-widgets/base",
            "_view_module_version": "1.2.0",
            "_view_name": "LayoutView",
            "align_content": null,
            "align_items": null,
            "align_self": null,
            "border": null,
            "bottom": null,
            "display": null,
            "flex": null,
            "flex_flow": null,
            "grid_area": null,
            "grid_auto_columns": null,
            "grid_auto_flow": null,
            "grid_auto_rows": null,
            "grid_column": null,
            "grid_gap": null,
            "grid_row": null,
            "grid_template_areas": null,
            "grid_template_columns": null,
            "grid_template_rows": null,
            "height": null,
            "justify_content": null,
            "justify_items": null,
            "left": null,
            "margin": null,
            "max_height": null,
            "max_width": null,
            "min_height": null,
            "min_width": null,
            "object_fit": null,
            "object_position": null,
            "order": null,
            "overflow": null,
            "overflow_x": null,
            "overflow_y": null,
            "padding": null,
            "right": null,
            "top": null,
            "visibility": null,
            "width": null
          }
        },
        "847e1de0dd2d4e43be8afb1071c02692": {
          "model_module": "@jupyter-widgets/controls",
          "model_name": "DescriptionStyleModel",
          "model_module_version": "1.5.0",
          "state": {
            "_model_module": "@jupyter-widgets/controls",
            "_model_module_version": "1.5.0",
            "_model_name": "DescriptionStyleModel",
            "_view_count": null,
            "_view_module": "@jupyter-widgets/base",
            "_view_module_version": "1.2.0",
            "_view_name": "StyleView",
            "description_width": ""
          }
        },
        "d800a503ef0246a8853d4d2c778997b3": {
          "model_module": "@jupyter-widgets/controls",
          "model_name": "HBoxModel",
          "model_module_version": "1.5.0",
          "state": {
            "_dom_classes": [],
            "_model_module": "@jupyter-widgets/controls",
            "_model_module_version": "1.5.0",
            "_model_name": "HBoxModel",
            "_view_count": null,
            "_view_module": "@jupyter-widgets/controls",
            "_view_module_version": "1.5.0",
            "_view_name": "HBoxView",
            "box_style": "",
            "children": [
              "IPY_MODEL_c12e0a93c6cd4d2bbc0d7cb57417b519",
              "IPY_MODEL_122a3ae501b746f9a85b3b1bf8cc0c68",
              "IPY_MODEL_bf8f15c2a513425d88b73f236aae4e10"
            ],
            "layout": "IPY_MODEL_62198cab44ad4bd59d39b1b22cf64daf"
          }
        },
        "c12e0a93c6cd4d2bbc0d7cb57417b519": {
          "model_module": "@jupyter-widgets/controls",
          "model_name": "HTMLModel",
          "model_module_version": "1.5.0",
          "state": {
            "_dom_classes": [],
            "_model_module": "@jupyter-widgets/controls",
            "_model_module_version": "1.5.0",
            "_model_name": "HTMLModel",
            "_view_count": null,
            "_view_module": "@jupyter-widgets/controls",
            "_view_module_version": "1.5.0",
            "_view_name": "HTMLView",
            "description": "",
            "description_tooltip": null,
            "layout": "IPY_MODEL_85f605c2002e4909b86fd10cd26ee378",
            "placeholder": "​",
            "style": "IPY_MODEL_eea4d1d3ce7d4fb08af35c83b81146c1",
            "value": "Generating splits...: 100%"
          }
        },
        "122a3ae501b746f9a85b3b1bf8cc0c68": {
          "model_module": "@jupyter-widgets/controls",
          "model_name": "FloatProgressModel",
          "model_module_version": "1.5.0",
          "state": {
            "_dom_classes": [],
            "_model_module": "@jupyter-widgets/controls",
            "_model_module_version": "1.5.0",
            "_model_name": "FloatProgressModel",
            "_view_count": null,
            "_view_module": "@jupyter-widgets/controls",
            "_view_module_version": "1.5.0",
            "_view_name": "ProgressView",
            "bar_style": "",
            "description": "",
            "description_tooltip": null,
            "layout": "IPY_MODEL_f82e62e4f1ca4d6ea4950403793d61e8",
            "max": 2,
            "min": 0,
            "orientation": "horizontal",
            "style": "IPY_MODEL_520cc0768fee40e492ad8c472ba8394c",
            "value": 2
          }
        },
        "bf8f15c2a513425d88b73f236aae4e10": {
          "model_module": "@jupyter-widgets/controls",
          "model_name": "HTMLModel",
          "model_module_version": "1.5.0",
          "state": {
            "_dom_classes": [],
            "_model_module": "@jupyter-widgets/controls",
            "_model_module_version": "1.5.0",
            "_model_name": "HTMLModel",
            "_view_count": null,
            "_view_module": "@jupyter-widgets/controls",
            "_view_module_version": "1.5.0",
            "_view_name": "HTMLView",
            "description": "",
            "description_tooltip": null,
            "layout": "IPY_MODEL_28925a94bb4c46d3a411cb915752c164",
            "placeholder": "​",
            "style": "IPY_MODEL_b450f1c96bca4e96ab2def9314b8bd08",
            "value": " 2/2 [01:10&lt;00:00, 31.06s/ splits]"
          }
        },
        "62198cab44ad4bd59d39b1b22cf64daf": {
          "model_module": "@jupyter-widgets/base",
          "model_name": "LayoutModel",
          "model_module_version": "1.2.0",
          "state": {
            "_model_module": "@jupyter-widgets/base",
            "_model_module_version": "1.2.0",
            "_model_name": "LayoutModel",
            "_view_count": null,
            "_view_module": "@jupyter-widgets/base",
            "_view_module_version": "1.2.0",
            "_view_name": "LayoutView",
            "align_content": null,
            "align_items": null,
            "align_self": null,
            "border": null,
            "bottom": null,
            "display": null,
            "flex": null,
            "flex_flow": null,
            "grid_area": null,
            "grid_auto_columns": null,
            "grid_auto_flow": null,
            "grid_auto_rows": null,
            "grid_column": null,
            "grid_gap": null,
            "grid_row": null,
            "grid_template_areas": null,
            "grid_template_columns": null,
            "grid_template_rows": null,
            "height": null,
            "justify_content": null,
            "justify_items": null,
            "left": null,
            "margin": null,
            "max_height": null,
            "max_width": null,
            "min_height": null,
            "min_width": null,
            "object_fit": null,
            "object_position": null,
            "order": null,
            "overflow": null,
            "overflow_x": null,
            "overflow_y": null,
            "padding": null,
            "right": null,
            "top": null,
            "visibility": "hidden",
            "width": null
          }
        },
        "85f605c2002e4909b86fd10cd26ee378": {
          "model_module": "@jupyter-widgets/base",
          "model_name": "LayoutModel",
          "model_module_version": "1.2.0",
          "state": {
            "_model_module": "@jupyter-widgets/base",
            "_model_module_version": "1.2.0",
            "_model_name": "LayoutModel",
            "_view_count": null,
            "_view_module": "@jupyter-widgets/base",
            "_view_module_version": "1.2.0",
            "_view_name": "LayoutView",
            "align_content": null,
            "align_items": null,
            "align_self": null,
            "border": null,
            "bottom": null,
            "display": null,
            "flex": null,
            "flex_flow": null,
            "grid_area": null,
            "grid_auto_columns": null,
            "grid_auto_flow": null,
            "grid_auto_rows": null,
            "grid_column": null,
            "grid_gap": null,
            "grid_row": null,
            "grid_template_areas": null,
            "grid_template_columns": null,
            "grid_template_rows": null,
            "height": null,
            "justify_content": null,
            "justify_items": null,
            "left": null,
            "margin": null,
            "max_height": null,
            "max_width": null,
            "min_height": null,
            "min_width": null,
            "object_fit": null,
            "object_position": null,
            "order": null,
            "overflow": null,
            "overflow_x": null,
            "overflow_y": null,
            "padding": null,
            "right": null,
            "top": null,
            "visibility": null,
            "width": null
          }
        },
        "eea4d1d3ce7d4fb08af35c83b81146c1": {
          "model_module": "@jupyter-widgets/controls",
          "model_name": "DescriptionStyleModel",
          "model_module_version": "1.5.0",
          "state": {
            "_model_module": "@jupyter-widgets/controls",
            "_model_module_version": "1.5.0",
            "_model_name": "DescriptionStyleModel",
            "_view_count": null,
            "_view_module": "@jupyter-widgets/base",
            "_view_module_version": "1.2.0",
            "_view_name": "StyleView",
            "description_width": ""
          }
        },
        "f82e62e4f1ca4d6ea4950403793d61e8": {
          "model_module": "@jupyter-widgets/base",
          "model_name": "LayoutModel",
          "model_module_version": "1.2.0",
          "state": {
            "_model_module": "@jupyter-widgets/base",
            "_model_module_version": "1.2.0",
            "_model_name": "LayoutModel",
            "_view_count": null,
            "_view_module": "@jupyter-widgets/base",
            "_view_module_version": "1.2.0",
            "_view_name": "LayoutView",
            "align_content": null,
            "align_items": null,
            "align_self": null,
            "border": null,
            "bottom": null,
            "display": null,
            "flex": null,
            "flex_flow": null,
            "grid_area": null,
            "grid_auto_columns": null,
            "grid_auto_flow": null,
            "grid_auto_rows": null,
            "grid_column": null,
            "grid_gap": null,
            "grid_row": null,
            "grid_template_areas": null,
            "grid_template_columns": null,
            "grid_template_rows": null,
            "height": null,
            "justify_content": null,
            "justify_items": null,
            "left": null,
            "margin": null,
            "max_height": null,
            "max_width": null,
            "min_height": null,
            "min_width": null,
            "object_fit": null,
            "object_position": null,
            "order": null,
            "overflow": null,
            "overflow_x": null,
            "overflow_y": null,
            "padding": null,
            "right": null,
            "top": null,
            "visibility": null,
            "width": null
          }
        },
        "520cc0768fee40e492ad8c472ba8394c": {
          "model_module": "@jupyter-widgets/controls",
          "model_name": "ProgressStyleModel",
          "model_module_version": "1.5.0",
          "state": {
            "_model_module": "@jupyter-widgets/controls",
            "_model_module_version": "1.5.0",
            "_model_name": "ProgressStyleModel",
            "_view_count": null,
            "_view_module": "@jupyter-widgets/base",
            "_view_module_version": "1.2.0",
            "_view_name": "StyleView",
            "bar_color": null,
            "description_width": ""
          }
        },
        "28925a94bb4c46d3a411cb915752c164": {
          "model_module": "@jupyter-widgets/base",
          "model_name": "LayoutModel",
          "model_module_version": "1.2.0",
          "state": {
            "_model_module": "@jupyter-widgets/base",
            "_model_module_version": "1.2.0",
            "_model_name": "LayoutModel",
            "_view_count": null,
            "_view_module": "@jupyter-widgets/base",
            "_view_module_version": "1.2.0",
            "_view_name": "LayoutView",
            "align_content": null,
            "align_items": null,
            "align_self": null,
            "border": null,
            "bottom": null,
            "display": null,
            "flex": null,
            "flex_flow": null,
            "grid_area": null,
            "grid_auto_columns": null,
            "grid_auto_flow": null,
            "grid_auto_rows": null,
            "grid_column": null,
            "grid_gap": null,
            "grid_row": null,
            "grid_template_areas": null,
            "grid_template_columns": null,
            "grid_template_rows": null,
            "height": null,
            "justify_content": null,
            "justify_items": null,
            "left": null,
            "margin": null,
            "max_height": null,
            "max_width": null,
            "min_height": null,
            "min_width": null,
            "object_fit": null,
            "object_position": null,
            "order": null,
            "overflow": null,
            "overflow_x": null,
            "overflow_y": null,
            "padding": null,
            "right": null,
            "top": null,
            "visibility": null,
            "width": null
          }
        },
        "b450f1c96bca4e96ab2def9314b8bd08": {
          "model_module": "@jupyter-widgets/controls",
          "model_name": "DescriptionStyleModel",
          "model_module_version": "1.5.0",
          "state": {
            "_model_module": "@jupyter-widgets/controls",
            "_model_module_version": "1.5.0",
            "_model_name": "DescriptionStyleModel",
            "_view_count": null,
            "_view_module": "@jupyter-widgets/base",
            "_view_module_version": "1.2.0",
            "_view_name": "StyleView",
            "description_width": ""
          }
        },
        "0b8afa3e42114d66af96c512dd17ae26": {
          "model_module": "@jupyter-widgets/controls",
          "model_name": "HBoxModel",
          "model_module_version": "1.5.0",
          "state": {
            "_dom_classes": [],
            "_model_module": "@jupyter-widgets/controls",
            "_model_module_version": "1.5.0",
            "_model_name": "HBoxModel",
            "_view_count": null,
            "_view_module": "@jupyter-widgets/controls",
            "_view_module_version": "1.5.0",
            "_view_name": "HBoxView",
            "box_style": "",
            "children": [
              "IPY_MODEL_7f7a97fce80b443b9cecbe41b7be9451",
              "IPY_MODEL_6bfd033d1a7f4c899d502ccb932089ca",
              "IPY_MODEL_eaf89586dee1419ca3cedacd90d6653b"
            ],
            "layout": "IPY_MODEL_68eccfa1b5884a129f1160f6438bc7b6"
          }
        },
        "7f7a97fce80b443b9cecbe41b7be9451": {
          "model_module": "@jupyter-widgets/controls",
          "model_name": "HTMLModel",
          "model_module_version": "1.5.0",
          "state": {
            "_dom_classes": [],
            "_model_module": "@jupyter-widgets/controls",
            "_model_module_version": "1.5.0",
            "_model_name": "HTMLModel",
            "_view_count": null,
            "_view_module": "@jupyter-widgets/controls",
            "_view_module_version": "1.5.0",
            "_view_name": "HTMLView",
            "description": "",
            "description_tooltip": null,
            "layout": "IPY_MODEL_80ec71420cf841e9b4d62e4c9f635667",
            "placeholder": "​",
            "style": "IPY_MODEL_3c2505cc25c64a13bb4524975a0c6c75",
            "value": "Generating train examples...:  97%"
          }
        },
        "6bfd033d1a7f4c899d502ccb932089ca": {
          "model_module": "@jupyter-widgets/controls",
          "model_name": "FloatProgressModel",
          "model_module_version": "1.5.0",
          "state": {
            "_dom_classes": [],
            "_model_module": "@jupyter-widgets/controls",
            "_model_module_version": "1.5.0",
            "_model_name": "FloatProgressModel",
            "_view_count": null,
            "_view_module": "@jupyter-widgets/controls",
            "_view_module_version": "1.5.0",
            "_view_name": "ProgressView",
            "bar_style": "",
            "description": "",
            "description_tooltip": null,
            "layout": "IPY_MODEL_07aa82bf55f64c728d7fe64900f5cedb",
            "max": 75750,
            "min": 0,
            "orientation": "horizontal",
            "style": "IPY_MODEL_f10cbbd8ca35424ba7d75edd95c5326d",
            "value": 75750
          }
        },
        "eaf89586dee1419ca3cedacd90d6653b": {
          "model_module": "@jupyter-widgets/controls",
          "model_name": "HTMLModel",
          "model_module_version": "1.5.0",
          "state": {
            "_dom_classes": [],
            "_model_module": "@jupyter-widgets/controls",
            "_model_module_version": "1.5.0",
            "_model_name": "HTMLModel",
            "_view_count": null,
            "_view_module": "@jupyter-widgets/controls",
            "_view_module_version": "1.5.0",
            "_view_name": "HTMLView",
            "description": "",
            "description_tooltip": null,
            "layout": "IPY_MODEL_6df86bcafef240bda4ac578ca3289bdb",
            "placeholder": "​",
            "style": "IPY_MODEL_8e4a94ba50284e3ea4d51ebeca1dbcdc",
            "value": " 73851/75750 [00:41&lt;00:00, 2643.34 examples/s]"
          }
        },
        "68eccfa1b5884a129f1160f6438bc7b6": {
          "model_module": "@jupyter-widgets/base",
          "model_name": "LayoutModel",
          "model_module_version": "1.2.0",
          "state": {
            "_model_module": "@jupyter-widgets/base",
            "_model_module_version": "1.2.0",
            "_model_name": "LayoutModel",
            "_view_count": null,
            "_view_module": "@jupyter-widgets/base",
            "_view_module_version": "1.2.0",
            "_view_name": "LayoutView",
            "align_content": null,
            "align_items": null,
            "align_self": null,
            "border": null,
            "bottom": null,
            "display": null,
            "flex": null,
            "flex_flow": null,
            "grid_area": null,
            "grid_auto_columns": null,
            "grid_auto_flow": null,
            "grid_auto_rows": null,
            "grid_column": null,
            "grid_gap": null,
            "grid_row": null,
            "grid_template_areas": null,
            "grid_template_columns": null,
            "grid_template_rows": null,
            "height": null,
            "justify_content": null,
            "justify_items": null,
            "left": null,
            "margin": null,
            "max_height": null,
            "max_width": null,
            "min_height": null,
            "min_width": null,
            "object_fit": null,
            "object_position": null,
            "order": null,
            "overflow": null,
            "overflow_x": null,
            "overflow_y": null,
            "padding": null,
            "right": null,
            "top": null,
            "visibility": "hidden",
            "width": null
          }
        },
        "80ec71420cf841e9b4d62e4c9f635667": {
          "model_module": "@jupyter-widgets/base",
          "model_name": "LayoutModel",
          "model_module_version": "1.2.0",
          "state": {
            "_model_module": "@jupyter-widgets/base",
            "_model_module_version": "1.2.0",
            "_model_name": "LayoutModel",
            "_view_count": null,
            "_view_module": "@jupyter-widgets/base",
            "_view_module_version": "1.2.0",
            "_view_name": "LayoutView",
            "align_content": null,
            "align_items": null,
            "align_self": null,
            "border": null,
            "bottom": null,
            "display": null,
            "flex": null,
            "flex_flow": null,
            "grid_area": null,
            "grid_auto_columns": null,
            "grid_auto_flow": null,
            "grid_auto_rows": null,
            "grid_column": null,
            "grid_gap": null,
            "grid_row": null,
            "grid_template_areas": null,
            "grid_template_columns": null,
            "grid_template_rows": null,
            "height": null,
            "justify_content": null,
            "justify_items": null,
            "left": null,
            "margin": null,
            "max_height": null,
            "max_width": null,
            "min_height": null,
            "min_width": null,
            "object_fit": null,
            "object_position": null,
            "order": null,
            "overflow": null,
            "overflow_x": null,
            "overflow_y": null,
            "padding": null,
            "right": null,
            "top": null,
            "visibility": null,
            "width": null
          }
        },
        "3c2505cc25c64a13bb4524975a0c6c75": {
          "model_module": "@jupyter-widgets/controls",
          "model_name": "DescriptionStyleModel",
          "model_module_version": "1.5.0",
          "state": {
            "_model_module": "@jupyter-widgets/controls",
            "_model_module_version": "1.5.0",
            "_model_name": "DescriptionStyleModel",
            "_view_count": null,
            "_view_module": "@jupyter-widgets/base",
            "_view_module_version": "1.2.0",
            "_view_name": "StyleView",
            "description_width": ""
          }
        },
        "07aa82bf55f64c728d7fe64900f5cedb": {
          "model_module": "@jupyter-widgets/base",
          "model_name": "LayoutModel",
          "model_module_version": "1.2.0",
          "state": {
            "_model_module": "@jupyter-widgets/base",
            "_model_module_version": "1.2.0",
            "_model_name": "LayoutModel",
            "_view_count": null,
            "_view_module": "@jupyter-widgets/base",
            "_view_module_version": "1.2.0",
            "_view_name": "LayoutView",
            "align_content": null,
            "align_items": null,
            "align_self": null,
            "border": null,
            "bottom": null,
            "display": null,
            "flex": null,
            "flex_flow": null,
            "grid_area": null,
            "grid_auto_columns": null,
            "grid_auto_flow": null,
            "grid_auto_rows": null,
            "grid_column": null,
            "grid_gap": null,
            "grid_row": null,
            "grid_template_areas": null,
            "grid_template_columns": null,
            "grid_template_rows": null,
            "height": null,
            "justify_content": null,
            "justify_items": null,
            "left": null,
            "margin": null,
            "max_height": null,
            "max_width": null,
            "min_height": null,
            "min_width": null,
            "object_fit": null,
            "object_position": null,
            "order": null,
            "overflow": null,
            "overflow_x": null,
            "overflow_y": null,
            "padding": null,
            "right": null,
            "top": null,
            "visibility": null,
            "width": null
          }
        },
        "f10cbbd8ca35424ba7d75edd95c5326d": {
          "model_module": "@jupyter-widgets/controls",
          "model_name": "ProgressStyleModel",
          "model_module_version": "1.5.0",
          "state": {
            "_model_module": "@jupyter-widgets/controls",
            "_model_module_version": "1.5.0",
            "_model_name": "ProgressStyleModel",
            "_view_count": null,
            "_view_module": "@jupyter-widgets/base",
            "_view_module_version": "1.2.0",
            "_view_name": "StyleView",
            "bar_color": null,
            "description_width": ""
          }
        },
        "6df86bcafef240bda4ac578ca3289bdb": {
          "model_module": "@jupyter-widgets/base",
          "model_name": "LayoutModel",
          "model_module_version": "1.2.0",
          "state": {
            "_model_module": "@jupyter-widgets/base",
            "_model_module_version": "1.2.0",
            "_model_name": "LayoutModel",
            "_view_count": null,
            "_view_module": "@jupyter-widgets/base",
            "_view_module_version": "1.2.0",
            "_view_name": "LayoutView",
            "align_content": null,
            "align_items": null,
            "align_self": null,
            "border": null,
            "bottom": null,
            "display": null,
            "flex": null,
            "flex_flow": null,
            "grid_area": null,
            "grid_auto_columns": null,
            "grid_auto_flow": null,
            "grid_auto_rows": null,
            "grid_column": null,
            "grid_gap": null,
            "grid_row": null,
            "grid_template_areas": null,
            "grid_template_columns": null,
            "grid_template_rows": null,
            "height": null,
            "justify_content": null,
            "justify_items": null,
            "left": null,
            "margin": null,
            "max_height": null,
            "max_width": null,
            "min_height": null,
            "min_width": null,
            "object_fit": null,
            "object_position": null,
            "order": null,
            "overflow": null,
            "overflow_x": null,
            "overflow_y": null,
            "padding": null,
            "right": null,
            "top": null,
            "visibility": null,
            "width": null
          }
        },
        "8e4a94ba50284e3ea4d51ebeca1dbcdc": {
          "model_module": "@jupyter-widgets/controls",
          "model_name": "DescriptionStyleModel",
          "model_module_version": "1.5.0",
          "state": {
            "_model_module": "@jupyter-widgets/controls",
            "_model_module_version": "1.5.0",
            "_model_name": "DescriptionStyleModel",
            "_view_count": null,
            "_view_module": "@jupyter-widgets/base",
            "_view_module_version": "1.2.0",
            "_view_name": "StyleView",
            "description_width": ""
          }
        },
        "7421370f506444a7a9c1d9ac3ad23e8a": {
          "model_module": "@jupyter-widgets/controls",
          "model_name": "HBoxModel",
          "model_module_version": "1.5.0",
          "state": {
            "_dom_classes": [],
            "_model_module": "@jupyter-widgets/controls",
            "_model_module_version": "1.5.0",
            "_model_name": "HBoxModel",
            "_view_count": null,
            "_view_module": "@jupyter-widgets/controls",
            "_view_module_version": "1.5.0",
            "_view_name": "HBoxView",
            "box_style": "",
            "children": [
              "IPY_MODEL_c404e0b462ff44e1b8be08d00bf4fc0f",
              "IPY_MODEL_aab8f44853844f5c995f39a4194db8f8",
              "IPY_MODEL_2d05a15866f94c839141f0e3a8ef285f"
            ],
            "layout": "IPY_MODEL_e37d26508faf4fb0b05f1b04c6835ec2"
          }
        },
        "c404e0b462ff44e1b8be08d00bf4fc0f": {
          "model_module": "@jupyter-widgets/controls",
          "model_name": "HTMLModel",
          "model_module_version": "1.5.0",
          "state": {
            "_dom_classes": [],
            "_model_module": "@jupyter-widgets/controls",
            "_model_module_version": "1.5.0",
            "_model_name": "HTMLModel",
            "_view_count": null,
            "_view_module": "@jupyter-widgets/controls",
            "_view_module_version": "1.5.0",
            "_view_name": "HTMLView",
            "description": "",
            "description_tooltip": null,
            "layout": "IPY_MODEL_d442487f2df54dc18134fabf120c915a",
            "placeholder": "​",
            "style": "IPY_MODEL_27769baf6c794db49c2ef1805a5618b4",
            "value": "Shuffling /root/tensorflow_datasets/food101/incomplete.HRIC26_2.0.0/food101-train.tfrecord*...:  94%"
          }
        },
        "aab8f44853844f5c995f39a4194db8f8": {
          "model_module": "@jupyter-widgets/controls",
          "model_name": "FloatProgressModel",
          "model_module_version": "1.5.0",
          "state": {
            "_dom_classes": [],
            "_model_module": "@jupyter-widgets/controls",
            "_model_module_version": "1.5.0",
            "_model_name": "FloatProgressModel",
            "_view_count": null,
            "_view_module": "@jupyter-widgets/controls",
            "_view_module_version": "1.5.0",
            "_view_name": "ProgressView",
            "bar_style": "",
            "description": "",
            "description_tooltip": null,
            "layout": "IPY_MODEL_6c1bfb21eb024c6bab0af9ae0e6a0887",
            "max": 75750,
            "min": 0,
            "orientation": "horizontal",
            "style": "IPY_MODEL_995e48a96b424cc2814dad799d84dd8a",
            "value": 75750
          }
        },
        "2d05a15866f94c839141f0e3a8ef285f": {
          "model_module": "@jupyter-widgets/controls",
          "model_name": "HTMLModel",
          "model_module_version": "1.5.0",
          "state": {
            "_dom_classes": [],
            "_model_module": "@jupyter-widgets/controls",
            "_model_module_version": "1.5.0",
            "_model_name": "HTMLModel",
            "_view_count": null,
            "_view_module": "@jupyter-widgets/controls",
            "_view_module_version": "1.5.0",
            "_view_name": "HTMLView",
            "description": "",
            "description_tooltip": null,
            "layout": "IPY_MODEL_63cc1ffcec6e44cfa1c18130c83f22db",
            "placeholder": "​",
            "style": "IPY_MODEL_160ad57b600c4267a866fdbdc9bb4fb6",
            "value": " 71491/75750 [00:07&lt;00:00, 8744.86 examples/s]"
          }
        },
        "e37d26508faf4fb0b05f1b04c6835ec2": {
          "model_module": "@jupyter-widgets/base",
          "model_name": "LayoutModel",
          "model_module_version": "1.2.0",
          "state": {
            "_model_module": "@jupyter-widgets/base",
            "_model_module_version": "1.2.0",
            "_model_name": "LayoutModel",
            "_view_count": null,
            "_view_module": "@jupyter-widgets/base",
            "_view_module_version": "1.2.0",
            "_view_name": "LayoutView",
            "align_content": null,
            "align_items": null,
            "align_self": null,
            "border": null,
            "bottom": null,
            "display": null,
            "flex": null,
            "flex_flow": null,
            "grid_area": null,
            "grid_auto_columns": null,
            "grid_auto_flow": null,
            "grid_auto_rows": null,
            "grid_column": null,
            "grid_gap": null,
            "grid_row": null,
            "grid_template_areas": null,
            "grid_template_columns": null,
            "grid_template_rows": null,
            "height": null,
            "justify_content": null,
            "justify_items": null,
            "left": null,
            "margin": null,
            "max_height": null,
            "max_width": null,
            "min_height": null,
            "min_width": null,
            "object_fit": null,
            "object_position": null,
            "order": null,
            "overflow": null,
            "overflow_x": null,
            "overflow_y": null,
            "padding": null,
            "right": null,
            "top": null,
            "visibility": "hidden",
            "width": null
          }
        },
        "d442487f2df54dc18134fabf120c915a": {
          "model_module": "@jupyter-widgets/base",
          "model_name": "LayoutModel",
          "model_module_version": "1.2.0",
          "state": {
            "_model_module": "@jupyter-widgets/base",
            "_model_module_version": "1.2.0",
            "_model_name": "LayoutModel",
            "_view_count": null,
            "_view_module": "@jupyter-widgets/base",
            "_view_module_version": "1.2.0",
            "_view_name": "LayoutView",
            "align_content": null,
            "align_items": null,
            "align_self": null,
            "border": null,
            "bottom": null,
            "display": null,
            "flex": null,
            "flex_flow": null,
            "grid_area": null,
            "grid_auto_columns": null,
            "grid_auto_flow": null,
            "grid_auto_rows": null,
            "grid_column": null,
            "grid_gap": null,
            "grid_row": null,
            "grid_template_areas": null,
            "grid_template_columns": null,
            "grid_template_rows": null,
            "height": null,
            "justify_content": null,
            "justify_items": null,
            "left": null,
            "margin": null,
            "max_height": null,
            "max_width": null,
            "min_height": null,
            "min_width": null,
            "object_fit": null,
            "object_position": null,
            "order": null,
            "overflow": null,
            "overflow_x": null,
            "overflow_y": null,
            "padding": null,
            "right": null,
            "top": null,
            "visibility": null,
            "width": null
          }
        },
        "27769baf6c794db49c2ef1805a5618b4": {
          "model_module": "@jupyter-widgets/controls",
          "model_name": "DescriptionStyleModel",
          "model_module_version": "1.5.0",
          "state": {
            "_model_module": "@jupyter-widgets/controls",
            "_model_module_version": "1.5.0",
            "_model_name": "DescriptionStyleModel",
            "_view_count": null,
            "_view_module": "@jupyter-widgets/base",
            "_view_module_version": "1.2.0",
            "_view_name": "StyleView",
            "description_width": ""
          }
        },
        "6c1bfb21eb024c6bab0af9ae0e6a0887": {
          "model_module": "@jupyter-widgets/base",
          "model_name": "LayoutModel",
          "model_module_version": "1.2.0",
          "state": {
            "_model_module": "@jupyter-widgets/base",
            "_model_module_version": "1.2.0",
            "_model_name": "LayoutModel",
            "_view_count": null,
            "_view_module": "@jupyter-widgets/base",
            "_view_module_version": "1.2.0",
            "_view_name": "LayoutView",
            "align_content": null,
            "align_items": null,
            "align_self": null,
            "border": null,
            "bottom": null,
            "display": null,
            "flex": null,
            "flex_flow": null,
            "grid_area": null,
            "grid_auto_columns": null,
            "grid_auto_flow": null,
            "grid_auto_rows": null,
            "grid_column": null,
            "grid_gap": null,
            "grid_row": null,
            "grid_template_areas": null,
            "grid_template_columns": null,
            "grid_template_rows": null,
            "height": null,
            "justify_content": null,
            "justify_items": null,
            "left": null,
            "margin": null,
            "max_height": null,
            "max_width": null,
            "min_height": null,
            "min_width": null,
            "object_fit": null,
            "object_position": null,
            "order": null,
            "overflow": null,
            "overflow_x": null,
            "overflow_y": null,
            "padding": null,
            "right": null,
            "top": null,
            "visibility": null,
            "width": null
          }
        },
        "995e48a96b424cc2814dad799d84dd8a": {
          "model_module": "@jupyter-widgets/controls",
          "model_name": "ProgressStyleModel",
          "model_module_version": "1.5.0",
          "state": {
            "_model_module": "@jupyter-widgets/controls",
            "_model_module_version": "1.5.0",
            "_model_name": "ProgressStyleModel",
            "_view_count": null,
            "_view_module": "@jupyter-widgets/base",
            "_view_module_version": "1.2.0",
            "_view_name": "StyleView",
            "bar_color": null,
            "description_width": ""
          }
        },
        "63cc1ffcec6e44cfa1c18130c83f22db": {
          "model_module": "@jupyter-widgets/base",
          "model_name": "LayoutModel",
          "model_module_version": "1.2.0",
          "state": {
            "_model_module": "@jupyter-widgets/base",
            "_model_module_version": "1.2.0",
            "_model_name": "LayoutModel",
            "_view_count": null,
            "_view_module": "@jupyter-widgets/base",
            "_view_module_version": "1.2.0",
            "_view_name": "LayoutView",
            "align_content": null,
            "align_items": null,
            "align_self": null,
            "border": null,
            "bottom": null,
            "display": null,
            "flex": null,
            "flex_flow": null,
            "grid_area": null,
            "grid_auto_columns": null,
            "grid_auto_flow": null,
            "grid_auto_rows": null,
            "grid_column": null,
            "grid_gap": null,
            "grid_row": null,
            "grid_template_areas": null,
            "grid_template_columns": null,
            "grid_template_rows": null,
            "height": null,
            "justify_content": null,
            "justify_items": null,
            "left": null,
            "margin": null,
            "max_height": null,
            "max_width": null,
            "min_height": null,
            "min_width": null,
            "object_fit": null,
            "object_position": null,
            "order": null,
            "overflow": null,
            "overflow_x": null,
            "overflow_y": null,
            "padding": null,
            "right": null,
            "top": null,
            "visibility": null,
            "width": null
          }
        },
        "160ad57b600c4267a866fdbdc9bb4fb6": {
          "model_module": "@jupyter-widgets/controls",
          "model_name": "DescriptionStyleModel",
          "model_module_version": "1.5.0",
          "state": {
            "_model_module": "@jupyter-widgets/controls",
            "_model_module_version": "1.5.0",
            "_model_name": "DescriptionStyleModel",
            "_view_count": null,
            "_view_module": "@jupyter-widgets/base",
            "_view_module_version": "1.2.0",
            "_view_name": "StyleView",
            "description_width": ""
          }
        },
        "7fd6021a39ac485ab6db0020f04b4c90": {
          "model_module": "@jupyter-widgets/controls",
          "model_name": "HBoxModel",
          "model_module_version": "1.5.0",
          "state": {
            "_dom_classes": [],
            "_model_module": "@jupyter-widgets/controls",
            "_model_module_version": "1.5.0",
            "_model_name": "HBoxModel",
            "_view_count": null,
            "_view_module": "@jupyter-widgets/controls",
            "_view_module_version": "1.5.0",
            "_view_name": "HBoxView",
            "box_style": "",
            "children": [
              "IPY_MODEL_e25ca37c7ce94007ba6a8d021792f436",
              "IPY_MODEL_35fbbff09f214154910729dc48b04b12",
              "IPY_MODEL_1cc748ab10334032b79c796ba7f19d4c"
            ],
            "layout": "IPY_MODEL_2d6cdcdfa9b14ca4b49a057c9fd85c4e"
          }
        },
        "e25ca37c7ce94007ba6a8d021792f436": {
          "model_module": "@jupyter-widgets/controls",
          "model_name": "HTMLModel",
          "model_module_version": "1.5.0",
          "state": {
            "_dom_classes": [],
            "_model_module": "@jupyter-widgets/controls",
            "_model_module_version": "1.5.0",
            "_model_name": "HTMLModel",
            "_view_count": null,
            "_view_module": "@jupyter-widgets/controls",
            "_view_module_version": "1.5.0",
            "_view_name": "HTMLView",
            "description": "",
            "description_tooltip": null,
            "layout": "IPY_MODEL_fe9f8408628e42b39ea15bc02f137a2c",
            "placeholder": "​",
            "style": "IPY_MODEL_6fc27425f00e4021bcad0b39d60064b7",
            "value": "Generating validation examples...:  92%"
          }
        },
        "35fbbff09f214154910729dc48b04b12": {
          "model_module": "@jupyter-widgets/controls",
          "model_name": "FloatProgressModel",
          "model_module_version": "1.5.0",
          "state": {
            "_dom_classes": [],
            "_model_module": "@jupyter-widgets/controls",
            "_model_module_version": "1.5.0",
            "_model_name": "FloatProgressModel",
            "_view_count": null,
            "_view_module": "@jupyter-widgets/controls",
            "_view_module_version": "1.5.0",
            "_view_name": "ProgressView",
            "bar_style": "",
            "description": "",
            "description_tooltip": null,
            "layout": "IPY_MODEL_3c52444de9a146098e16193c5217f7c5",
            "max": 25250,
            "min": 0,
            "orientation": "horizontal",
            "style": "IPY_MODEL_f3c37cd62c28432c9a7c581e55bb6c1a",
            "value": 25250
          }
        },
        "1cc748ab10334032b79c796ba7f19d4c": {
          "model_module": "@jupyter-widgets/controls",
          "model_name": "HTMLModel",
          "model_module_version": "1.5.0",
          "state": {
            "_dom_classes": [],
            "_model_module": "@jupyter-widgets/controls",
            "_model_module_version": "1.5.0",
            "_model_name": "HTMLModel",
            "_view_count": null,
            "_view_module": "@jupyter-widgets/controls",
            "_view_module_version": "1.5.0",
            "_view_name": "HTMLView",
            "description": "",
            "description_tooltip": null,
            "layout": "IPY_MODEL_e57eb2864f3046858ab63e7485085fae",
            "placeholder": "​",
            "style": "IPY_MODEL_3668402b9ec24e41a5a920abb6003e7a",
            "value": " 23245/25250 [00:06&lt;00:00, 2932.61 examples/s]"
          }
        },
        "2d6cdcdfa9b14ca4b49a057c9fd85c4e": {
          "model_module": "@jupyter-widgets/base",
          "model_name": "LayoutModel",
          "model_module_version": "1.2.0",
          "state": {
            "_model_module": "@jupyter-widgets/base",
            "_model_module_version": "1.2.0",
            "_model_name": "LayoutModel",
            "_view_count": null,
            "_view_module": "@jupyter-widgets/base",
            "_view_module_version": "1.2.0",
            "_view_name": "LayoutView",
            "align_content": null,
            "align_items": null,
            "align_self": null,
            "border": null,
            "bottom": null,
            "display": null,
            "flex": null,
            "flex_flow": null,
            "grid_area": null,
            "grid_auto_columns": null,
            "grid_auto_flow": null,
            "grid_auto_rows": null,
            "grid_column": null,
            "grid_gap": null,
            "grid_row": null,
            "grid_template_areas": null,
            "grid_template_columns": null,
            "grid_template_rows": null,
            "height": null,
            "justify_content": null,
            "justify_items": null,
            "left": null,
            "margin": null,
            "max_height": null,
            "max_width": null,
            "min_height": null,
            "min_width": null,
            "object_fit": null,
            "object_position": null,
            "order": null,
            "overflow": null,
            "overflow_x": null,
            "overflow_y": null,
            "padding": null,
            "right": null,
            "top": null,
            "visibility": "hidden",
            "width": null
          }
        },
        "fe9f8408628e42b39ea15bc02f137a2c": {
          "model_module": "@jupyter-widgets/base",
          "model_name": "LayoutModel",
          "model_module_version": "1.2.0",
          "state": {
            "_model_module": "@jupyter-widgets/base",
            "_model_module_version": "1.2.0",
            "_model_name": "LayoutModel",
            "_view_count": null,
            "_view_module": "@jupyter-widgets/base",
            "_view_module_version": "1.2.0",
            "_view_name": "LayoutView",
            "align_content": null,
            "align_items": null,
            "align_self": null,
            "border": null,
            "bottom": null,
            "display": null,
            "flex": null,
            "flex_flow": null,
            "grid_area": null,
            "grid_auto_columns": null,
            "grid_auto_flow": null,
            "grid_auto_rows": null,
            "grid_column": null,
            "grid_gap": null,
            "grid_row": null,
            "grid_template_areas": null,
            "grid_template_columns": null,
            "grid_template_rows": null,
            "height": null,
            "justify_content": null,
            "justify_items": null,
            "left": null,
            "margin": null,
            "max_height": null,
            "max_width": null,
            "min_height": null,
            "min_width": null,
            "object_fit": null,
            "object_position": null,
            "order": null,
            "overflow": null,
            "overflow_x": null,
            "overflow_y": null,
            "padding": null,
            "right": null,
            "top": null,
            "visibility": null,
            "width": null
          }
        },
        "6fc27425f00e4021bcad0b39d60064b7": {
          "model_module": "@jupyter-widgets/controls",
          "model_name": "DescriptionStyleModel",
          "model_module_version": "1.5.0",
          "state": {
            "_model_module": "@jupyter-widgets/controls",
            "_model_module_version": "1.5.0",
            "_model_name": "DescriptionStyleModel",
            "_view_count": null,
            "_view_module": "@jupyter-widgets/base",
            "_view_module_version": "1.2.0",
            "_view_name": "StyleView",
            "description_width": ""
          }
        },
        "3c52444de9a146098e16193c5217f7c5": {
          "model_module": "@jupyter-widgets/base",
          "model_name": "LayoutModel",
          "model_module_version": "1.2.0",
          "state": {
            "_model_module": "@jupyter-widgets/base",
            "_model_module_version": "1.2.0",
            "_model_name": "LayoutModel",
            "_view_count": null,
            "_view_module": "@jupyter-widgets/base",
            "_view_module_version": "1.2.0",
            "_view_name": "LayoutView",
            "align_content": null,
            "align_items": null,
            "align_self": null,
            "border": null,
            "bottom": null,
            "display": null,
            "flex": null,
            "flex_flow": null,
            "grid_area": null,
            "grid_auto_columns": null,
            "grid_auto_flow": null,
            "grid_auto_rows": null,
            "grid_column": null,
            "grid_gap": null,
            "grid_row": null,
            "grid_template_areas": null,
            "grid_template_columns": null,
            "grid_template_rows": null,
            "height": null,
            "justify_content": null,
            "justify_items": null,
            "left": null,
            "margin": null,
            "max_height": null,
            "max_width": null,
            "min_height": null,
            "min_width": null,
            "object_fit": null,
            "object_position": null,
            "order": null,
            "overflow": null,
            "overflow_x": null,
            "overflow_y": null,
            "padding": null,
            "right": null,
            "top": null,
            "visibility": null,
            "width": null
          }
        },
        "f3c37cd62c28432c9a7c581e55bb6c1a": {
          "model_module": "@jupyter-widgets/controls",
          "model_name": "ProgressStyleModel",
          "model_module_version": "1.5.0",
          "state": {
            "_model_module": "@jupyter-widgets/controls",
            "_model_module_version": "1.5.0",
            "_model_name": "ProgressStyleModel",
            "_view_count": null,
            "_view_module": "@jupyter-widgets/base",
            "_view_module_version": "1.2.0",
            "_view_name": "StyleView",
            "bar_color": null,
            "description_width": ""
          }
        },
        "e57eb2864f3046858ab63e7485085fae": {
          "model_module": "@jupyter-widgets/base",
          "model_name": "LayoutModel",
          "model_module_version": "1.2.0",
          "state": {
            "_model_module": "@jupyter-widgets/base",
            "_model_module_version": "1.2.0",
            "_model_name": "LayoutModel",
            "_view_count": null,
            "_view_module": "@jupyter-widgets/base",
            "_view_module_version": "1.2.0",
            "_view_name": "LayoutView",
            "align_content": null,
            "align_items": null,
            "align_self": null,
            "border": null,
            "bottom": null,
            "display": null,
            "flex": null,
            "flex_flow": null,
            "grid_area": null,
            "grid_auto_columns": null,
            "grid_auto_flow": null,
            "grid_auto_rows": null,
            "grid_column": null,
            "grid_gap": null,
            "grid_row": null,
            "grid_template_areas": null,
            "grid_template_columns": null,
            "grid_template_rows": null,
            "height": null,
            "justify_content": null,
            "justify_items": null,
            "left": null,
            "margin": null,
            "max_height": null,
            "max_width": null,
            "min_height": null,
            "min_width": null,
            "object_fit": null,
            "object_position": null,
            "order": null,
            "overflow": null,
            "overflow_x": null,
            "overflow_y": null,
            "padding": null,
            "right": null,
            "top": null,
            "visibility": null,
            "width": null
          }
        },
        "3668402b9ec24e41a5a920abb6003e7a": {
          "model_module": "@jupyter-widgets/controls",
          "model_name": "DescriptionStyleModel",
          "model_module_version": "1.5.0",
          "state": {
            "_model_module": "@jupyter-widgets/controls",
            "_model_module_version": "1.5.0",
            "_model_name": "DescriptionStyleModel",
            "_view_count": null,
            "_view_module": "@jupyter-widgets/base",
            "_view_module_version": "1.2.0",
            "_view_name": "StyleView",
            "description_width": ""
          }
        },
        "d97aa202796441c3915f63daf046c03c": {
          "model_module": "@jupyter-widgets/controls",
          "model_name": "HBoxModel",
          "model_module_version": "1.5.0",
          "state": {
            "_dom_classes": [],
            "_model_module": "@jupyter-widgets/controls",
            "_model_module_version": "1.5.0",
            "_model_name": "HBoxModel",
            "_view_count": null,
            "_view_module": "@jupyter-widgets/controls",
            "_view_module_version": "1.5.0",
            "_view_name": "HBoxView",
            "box_style": "",
            "children": [
              "IPY_MODEL_f603f4da8364402399b635064cb3606a",
              "IPY_MODEL_0318191337c842319af0e2ce37a64002",
              "IPY_MODEL_2851f86e086d44719c3accf47042e8af"
            ],
            "layout": "IPY_MODEL_88fb9a9ac8024e33bd0825bda4a0c0a8"
          }
        },
        "f603f4da8364402399b635064cb3606a": {
          "model_module": "@jupyter-widgets/controls",
          "model_name": "HTMLModel",
          "model_module_version": "1.5.0",
          "state": {
            "_dom_classes": [],
            "_model_module": "@jupyter-widgets/controls",
            "_model_module_version": "1.5.0",
            "_model_name": "HTMLModel",
            "_view_count": null,
            "_view_module": "@jupyter-widgets/controls",
            "_view_module_version": "1.5.0",
            "_view_name": "HTMLView",
            "description": "",
            "description_tooltip": null,
            "layout": "IPY_MODEL_eab0438b149f48069d324532644a7c4f",
            "placeholder": "​",
            "style": "IPY_MODEL_938b3cea65a349bbabd42ad9df8aa3f1",
            "value": "Shuffling /root/tensorflow_datasets/food101/incomplete.HRIC26_2.0.0/food101-validation.tfrecord*...:  84%"
          }
        },
        "0318191337c842319af0e2ce37a64002": {
          "model_module": "@jupyter-widgets/controls",
          "model_name": "FloatProgressModel",
          "model_module_version": "1.5.0",
          "state": {
            "_dom_classes": [],
            "_model_module": "@jupyter-widgets/controls",
            "_model_module_version": "1.5.0",
            "_model_name": "FloatProgressModel",
            "_view_count": null,
            "_view_module": "@jupyter-widgets/controls",
            "_view_module_version": "1.5.0",
            "_view_name": "ProgressView",
            "bar_style": "",
            "description": "",
            "description_tooltip": null,
            "layout": "IPY_MODEL_7c9eb18a694a474583d20a7ffd9038b6",
            "max": 25250,
            "min": 0,
            "orientation": "horizontal",
            "style": "IPY_MODEL_b70864ca03f64fca8f36c35741c09a84",
            "value": 25250
          }
        },
        "2851f86e086d44719c3accf47042e8af": {
          "model_module": "@jupyter-widgets/controls",
          "model_name": "HTMLModel",
          "model_module_version": "1.5.0",
          "state": {
            "_dom_classes": [],
            "_model_module": "@jupyter-widgets/controls",
            "_model_module_version": "1.5.0",
            "_model_name": "HTMLModel",
            "_view_count": null,
            "_view_module": "@jupyter-widgets/controls",
            "_view_module_version": "1.5.0",
            "_view_name": "HTMLView",
            "description": "",
            "description_tooltip": null,
            "layout": "IPY_MODEL_b9fc7fb1a4da46599446b42d46381afa",
            "placeholder": "​",
            "style": "IPY_MODEL_2ccc5d08f0974480972acc873fedfcee",
            "value": " 21187/25250 [00:03&lt;00:00, 6080.88 examples/s]"
          }
        },
        "88fb9a9ac8024e33bd0825bda4a0c0a8": {
          "model_module": "@jupyter-widgets/base",
          "model_name": "LayoutModel",
          "model_module_version": "1.2.0",
          "state": {
            "_model_module": "@jupyter-widgets/base",
            "_model_module_version": "1.2.0",
            "_model_name": "LayoutModel",
            "_view_count": null,
            "_view_module": "@jupyter-widgets/base",
            "_view_module_version": "1.2.0",
            "_view_name": "LayoutView",
            "align_content": null,
            "align_items": null,
            "align_self": null,
            "border": null,
            "bottom": null,
            "display": null,
            "flex": null,
            "flex_flow": null,
            "grid_area": null,
            "grid_auto_columns": null,
            "grid_auto_flow": null,
            "grid_auto_rows": null,
            "grid_column": null,
            "grid_gap": null,
            "grid_row": null,
            "grid_template_areas": null,
            "grid_template_columns": null,
            "grid_template_rows": null,
            "height": null,
            "justify_content": null,
            "justify_items": null,
            "left": null,
            "margin": null,
            "max_height": null,
            "max_width": null,
            "min_height": null,
            "min_width": null,
            "object_fit": null,
            "object_position": null,
            "order": null,
            "overflow": null,
            "overflow_x": null,
            "overflow_y": null,
            "padding": null,
            "right": null,
            "top": null,
            "visibility": "hidden",
            "width": null
          }
        },
        "eab0438b149f48069d324532644a7c4f": {
          "model_module": "@jupyter-widgets/base",
          "model_name": "LayoutModel",
          "model_module_version": "1.2.0",
          "state": {
            "_model_module": "@jupyter-widgets/base",
            "_model_module_version": "1.2.0",
            "_model_name": "LayoutModel",
            "_view_count": null,
            "_view_module": "@jupyter-widgets/base",
            "_view_module_version": "1.2.0",
            "_view_name": "LayoutView",
            "align_content": null,
            "align_items": null,
            "align_self": null,
            "border": null,
            "bottom": null,
            "display": null,
            "flex": null,
            "flex_flow": null,
            "grid_area": null,
            "grid_auto_columns": null,
            "grid_auto_flow": null,
            "grid_auto_rows": null,
            "grid_column": null,
            "grid_gap": null,
            "grid_row": null,
            "grid_template_areas": null,
            "grid_template_columns": null,
            "grid_template_rows": null,
            "height": null,
            "justify_content": null,
            "justify_items": null,
            "left": null,
            "margin": null,
            "max_height": null,
            "max_width": null,
            "min_height": null,
            "min_width": null,
            "object_fit": null,
            "object_position": null,
            "order": null,
            "overflow": null,
            "overflow_x": null,
            "overflow_y": null,
            "padding": null,
            "right": null,
            "top": null,
            "visibility": null,
            "width": null
          }
        },
        "938b3cea65a349bbabd42ad9df8aa3f1": {
          "model_module": "@jupyter-widgets/controls",
          "model_name": "DescriptionStyleModel",
          "model_module_version": "1.5.0",
          "state": {
            "_model_module": "@jupyter-widgets/controls",
            "_model_module_version": "1.5.0",
            "_model_name": "DescriptionStyleModel",
            "_view_count": null,
            "_view_module": "@jupyter-widgets/base",
            "_view_module_version": "1.2.0",
            "_view_name": "StyleView",
            "description_width": ""
          }
        },
        "7c9eb18a694a474583d20a7ffd9038b6": {
          "model_module": "@jupyter-widgets/base",
          "model_name": "LayoutModel",
          "model_module_version": "1.2.0",
          "state": {
            "_model_module": "@jupyter-widgets/base",
            "_model_module_version": "1.2.0",
            "_model_name": "LayoutModel",
            "_view_count": null,
            "_view_module": "@jupyter-widgets/base",
            "_view_module_version": "1.2.0",
            "_view_name": "LayoutView",
            "align_content": null,
            "align_items": null,
            "align_self": null,
            "border": null,
            "bottom": null,
            "display": null,
            "flex": null,
            "flex_flow": null,
            "grid_area": null,
            "grid_auto_columns": null,
            "grid_auto_flow": null,
            "grid_auto_rows": null,
            "grid_column": null,
            "grid_gap": null,
            "grid_row": null,
            "grid_template_areas": null,
            "grid_template_columns": null,
            "grid_template_rows": null,
            "height": null,
            "justify_content": null,
            "justify_items": null,
            "left": null,
            "margin": null,
            "max_height": null,
            "max_width": null,
            "min_height": null,
            "min_width": null,
            "object_fit": null,
            "object_position": null,
            "order": null,
            "overflow": null,
            "overflow_x": null,
            "overflow_y": null,
            "padding": null,
            "right": null,
            "top": null,
            "visibility": null,
            "width": null
          }
        },
        "b70864ca03f64fca8f36c35741c09a84": {
          "model_module": "@jupyter-widgets/controls",
          "model_name": "ProgressStyleModel",
          "model_module_version": "1.5.0",
          "state": {
            "_model_module": "@jupyter-widgets/controls",
            "_model_module_version": "1.5.0",
            "_model_name": "ProgressStyleModel",
            "_view_count": null,
            "_view_module": "@jupyter-widgets/base",
            "_view_module_version": "1.2.0",
            "_view_name": "StyleView",
            "bar_color": null,
            "description_width": ""
          }
        },
        "b9fc7fb1a4da46599446b42d46381afa": {
          "model_module": "@jupyter-widgets/base",
          "model_name": "LayoutModel",
          "model_module_version": "1.2.0",
          "state": {
            "_model_module": "@jupyter-widgets/base",
            "_model_module_version": "1.2.0",
            "_model_name": "LayoutModel",
            "_view_count": null,
            "_view_module": "@jupyter-widgets/base",
            "_view_module_version": "1.2.0",
            "_view_name": "LayoutView",
            "align_content": null,
            "align_items": null,
            "align_self": null,
            "border": null,
            "bottom": null,
            "display": null,
            "flex": null,
            "flex_flow": null,
            "grid_area": null,
            "grid_auto_columns": null,
            "grid_auto_flow": null,
            "grid_auto_rows": null,
            "grid_column": null,
            "grid_gap": null,
            "grid_row": null,
            "grid_template_areas": null,
            "grid_template_columns": null,
            "grid_template_rows": null,
            "height": null,
            "justify_content": null,
            "justify_items": null,
            "left": null,
            "margin": null,
            "max_height": null,
            "max_width": null,
            "min_height": null,
            "min_width": null,
            "object_fit": null,
            "object_position": null,
            "order": null,
            "overflow": null,
            "overflow_x": null,
            "overflow_y": null,
            "padding": null,
            "right": null,
            "top": null,
            "visibility": null,
            "width": null
          }
        },
        "2ccc5d08f0974480972acc873fedfcee": {
          "model_module": "@jupyter-widgets/controls",
          "model_name": "DescriptionStyleModel",
          "model_module_version": "1.5.0",
          "state": {
            "_model_module": "@jupyter-widgets/controls",
            "_model_module_version": "1.5.0",
            "_model_name": "DescriptionStyleModel",
            "_view_count": null,
            "_view_module": "@jupyter-widgets/base",
            "_view_module_version": "1.2.0",
            "_view_name": "StyleView",
            "description_width": ""
          }
        }
      }
    }
  },
  "cells": [
    {
      "cell_type": "markdown",
      "source": [
        "# Food Vision Ultra\n",
        "In this project, I will model a Convolutional Neural Network and fit it on the popular \"Food 101\" dataset. The main goal is to outperform two models that were created by two very prestigious universities, and were trained on the same dataset. First, my model will beat the Food Vision model created by ETH Zurich **using only 10% of the training data**. Then my model will use the full dataset to beat the model created by the University of Massachussets, **with less iterations** (less than 250,000).\n",
        "\n",
        "You can find the respective papers here:\n",
        "\n",
        "ETH Zurich:  https://data.vision.ee.ethz.ch/cvl/datasets_extra/food-101/ (50.76% top 1 accuracy)\n",
        "\n",
        "University of Massachussets: https://arxiv.org/pdf/1606.05675 (77.4% top 1 accuracy)"
      ],
      "metadata": {
        "id": "iYgmqWOBw-C1"
      }
    },
    {
      "cell_type": "markdown",
      "source": [
        "Since we'll be using mixed presicion training, we'll need access to a GPU with a compute score greater than 7 to reap its performance. So if you are running this on Google Colab, it'll be convenient to have access to a Tesla T4 gpu or higher."
      ],
      "metadata": {
        "id": "EqMxYUCPzIA4"
      }
    },
    {
      "cell_type": "markdown",
      "source": [
        "## Get helper functions\n",
        "\n",
        "We'll first get a script full of handy functions to aid in this project"
      ],
      "metadata": {
        "id": "w4M46Ckkz2Hu"
      }
    },
    {
      "cell_type": "code",
      "source": [
        "!wget https://raw.githubusercontent.com/TheMexicanTarzan/Helper-functions/main/Python/TF_Helpers.py"
      ],
      "metadata": {
        "id": "5sDZhigs1tTx",
        "colab": {
          "base_uri": "https://localhost:8080/"
        },
        "outputId": "75a09b5f-3049-4af1-a662-0b5b63102db8"
      },
      "execution_count": 1,
      "outputs": [
        {
          "output_type": "stream",
          "name": "stdout",
          "text": [
            "--2024-07-25 21:28:48--  https://raw.githubusercontent.com/TheMexicanTarzan/Helper-functions/main/Python/TF_Helpers.py\n",
            "Resolving raw.githubusercontent.com (raw.githubusercontent.com)... 185.199.108.133, 185.199.109.133, 185.199.110.133, ...\n",
            "Connecting to raw.githubusercontent.com (raw.githubusercontent.com)|185.199.108.133|:443... connected.\n",
            "HTTP request sent, awaiting response... 200 OK\n",
            "Length: 10247 (10K) [text/plain]\n",
            "Saving to: ‘TF_Helpers.py’\n",
            "\n",
            "\rTF_Helpers.py         0%[                    ]       0  --.-KB/s               \rTF_Helpers.py       100%[===================>]  10.01K  --.-KB/s    in 0s      \n",
            "\n",
            "2024-07-25 21:28:48 (116 MB/s) - ‘TF_Helpers.py’ saved [10247/10247]\n",
            "\n"
          ]
        }
      ]
    },
    {
      "cell_type": "code",
      "source": [
        "# Import tf and helper functions for the notebook\n",
        "from TF_Helpers import plot_loss_curves, compare_histories\n",
        "import tensorflow as tf"
      ],
      "metadata": {
        "id": "HPtiWwpe1xO-"
      },
      "execution_count": 2,
      "outputs": []
    },
    {
      "cell_type": "markdown",
      "source": [
        "## Use TensorFlow datasets to download data"
      ],
      "metadata": {
        "id": "1xk3RXxn3Pbm"
      }
    },
    {
      "cell_type": "code",
      "source": [
        "# Get TensorFlow datasets\n",
        "import tensorflow_datasets as tfds"
      ],
      "metadata": {
        "id": "qZ4AlznP3WZV"
      },
      "execution_count": 3,
      "outputs": []
    },
    {
      "cell_type": "code",
      "source": [
        "# Load in the data\n",
        "(train_data, test_data), ds_info = tfds.load(name = \"food101\",\n",
        "                                             split = [\"train\", \"validation\"],\n",
        "                                             shuffle_files= True,\n",
        "                                             as_supervised= True,\n",
        "                                             with_info= True)"
      ],
      "metadata": {
        "id": "vQwY1MXp3dRM",
        "colab": {
          "base_uri": "https://localhost:8080/",
          "height": 148,
          "referenced_widgets": [
            "a693aba06c654137b8120a4032002f47",
            "e0eaf0118d9b4125a7f4f687d3afc24d",
            "10ef863f05f4431f989709e1d0802acd",
            "e9980dd1755f41108cb390dcbda3cc1d",
            "7bd8de366f744657b2f0a38df096002a",
            "c6e1854a70c7445f9960dccd35b3291a",
            "4adacdfcb7934564bd50554763d92bf0",
            "5ee2f7b7ed7a4f46bb2fe40ac86889e6",
            "add447fb92b04f34bfd19d241e4bd20a",
            "31a25850f2a54e209ecadd11564ab7d3",
            "d72d3849604c440ea74fdabbd8f0e973",
            "3e659611b2134d2aa4366e52d791a2c6",
            "857baa83537a485d800ca890e54b4de7",
            "a6025f7da43747f6bb55d068d1e41660",
            "1e17ab9428ae4b41b212a1bb418611a2",
            "8ff77c93848e4bd480732fde3e24cec8",
            "7f93505534b84f39b7d9be2c2ae08657",
            "6ff5aecc11514281914c93aef5c18c70",
            "ed6df5efcdc449aaade9bcb8318bc4b7",
            "1096cd8404f442e2b5993f29f2b87f8f",
            "e83aea8ff6bc4a4d8c521fada6912edb",
            "2c9600f3ca114188bba6b0190bf12552",
            "5c9285dfe8174d0f899eab341e0d35b3",
            "9ad5ac74a07441bc9868cae8a66b1273",
            "97ecc20fa52441479814007b0c6aff24",
            "8ff956b98a6b428e81b79bb1a88b4c14",
            "40bebe6c784941ea993abb99d4863bee",
            "7b4e216389ab4abab24ea458d693b4e2",
            "4046c237fa7c489695ab372d64b0ce28",
            "48e0d110d42a4f53bf32b09c03181a9b",
            "c95fae811a7043d988f497a040659ca7",
            "c9de1d67ed434886bc9cd302b31009ee",
            "847e1de0dd2d4e43be8afb1071c02692",
            "d800a503ef0246a8853d4d2c778997b3",
            "c12e0a93c6cd4d2bbc0d7cb57417b519",
            "122a3ae501b746f9a85b3b1bf8cc0c68",
            "bf8f15c2a513425d88b73f236aae4e10",
            "62198cab44ad4bd59d39b1b22cf64daf",
            "85f605c2002e4909b86fd10cd26ee378",
            "eea4d1d3ce7d4fb08af35c83b81146c1",
            "f82e62e4f1ca4d6ea4950403793d61e8",
            "520cc0768fee40e492ad8c472ba8394c",
            "28925a94bb4c46d3a411cb915752c164",
            "b450f1c96bca4e96ab2def9314b8bd08",
            "0b8afa3e42114d66af96c512dd17ae26",
            "7f7a97fce80b443b9cecbe41b7be9451",
            "6bfd033d1a7f4c899d502ccb932089ca",
            "eaf89586dee1419ca3cedacd90d6653b",
            "68eccfa1b5884a129f1160f6438bc7b6",
            "80ec71420cf841e9b4d62e4c9f635667",
            "3c2505cc25c64a13bb4524975a0c6c75",
            "07aa82bf55f64c728d7fe64900f5cedb",
            "f10cbbd8ca35424ba7d75edd95c5326d",
            "6df86bcafef240bda4ac578ca3289bdb",
            "8e4a94ba50284e3ea4d51ebeca1dbcdc",
            "7421370f506444a7a9c1d9ac3ad23e8a",
            "c404e0b462ff44e1b8be08d00bf4fc0f",
            "aab8f44853844f5c995f39a4194db8f8",
            "2d05a15866f94c839141f0e3a8ef285f",
            "e37d26508faf4fb0b05f1b04c6835ec2",
            "d442487f2df54dc18134fabf120c915a",
            "27769baf6c794db49c2ef1805a5618b4",
            "6c1bfb21eb024c6bab0af9ae0e6a0887",
            "995e48a96b424cc2814dad799d84dd8a",
            "63cc1ffcec6e44cfa1c18130c83f22db",
            "160ad57b600c4267a866fdbdc9bb4fb6",
            "7fd6021a39ac485ab6db0020f04b4c90",
            "e25ca37c7ce94007ba6a8d021792f436",
            "35fbbff09f214154910729dc48b04b12",
            "1cc748ab10334032b79c796ba7f19d4c",
            "2d6cdcdfa9b14ca4b49a057c9fd85c4e",
            "fe9f8408628e42b39ea15bc02f137a2c",
            "6fc27425f00e4021bcad0b39d60064b7",
            "3c52444de9a146098e16193c5217f7c5",
            "f3c37cd62c28432c9a7c581e55bb6c1a",
            "e57eb2864f3046858ab63e7485085fae",
            "3668402b9ec24e41a5a920abb6003e7a",
            "d97aa202796441c3915f63daf046c03c",
            "f603f4da8364402399b635064cb3606a",
            "0318191337c842319af0e2ce37a64002",
            "2851f86e086d44719c3accf47042e8af",
            "88fb9a9ac8024e33bd0825bda4a0c0a8",
            "eab0438b149f48069d324532644a7c4f",
            "938b3cea65a349bbabd42ad9df8aa3f1",
            "7c9eb18a694a474583d20a7ffd9038b6",
            "b70864ca03f64fca8f36c35741c09a84",
            "b9fc7fb1a4da46599446b42d46381afa",
            "2ccc5d08f0974480972acc873fedfcee"
          ]
        },
        "outputId": "87be0bd3-f3dd-4195-965c-458bb577d94b"
      },
      "execution_count": 4,
      "outputs": [
        {
          "output_type": "stream",
          "name": "stdout",
          "text": [
            "Downloading and preparing dataset 4.65 GiB (download: 4.65 GiB, generated: Unknown size, total: 4.65 GiB) to /root/tensorflow_datasets/food101/2.0.0...\n"
          ]
        },
        {
          "output_type": "display_data",
          "data": {
            "text/plain": [
              "Dl Completed...: 0 url [00:00, ? url/s]"
            ],
            "application/vnd.jupyter.widget-view+json": {
              "version_major": 2,
              "version_minor": 0,
              "model_id": "a693aba06c654137b8120a4032002f47"
            }
          },
          "metadata": {}
        },
        {
          "output_type": "display_data",
          "data": {
            "text/plain": [
              "Dl Size...: 0 MiB [00:00, ? MiB/s]"
            ],
            "application/vnd.jupyter.widget-view+json": {
              "version_major": 2,
              "version_minor": 0,
              "model_id": "3e659611b2134d2aa4366e52d791a2c6"
            }
          },
          "metadata": {}
        },
        {
          "output_type": "display_data",
          "data": {
            "text/plain": [
              "Extraction completed...: 0 file [00:00, ? file/s]"
            ],
            "application/vnd.jupyter.widget-view+json": {
              "version_major": 2,
              "version_minor": 0,
              "model_id": "5c9285dfe8174d0f899eab341e0d35b3"
            }
          },
          "metadata": {}
        },
        {
          "output_type": "display_data",
          "data": {
            "text/plain": [
              "Generating splits...:   0%|          | 0/2 [00:00<?, ? splits/s]"
            ],
            "application/vnd.jupyter.widget-view+json": {
              "version_major": 2,
              "version_minor": 0,
              "model_id": "d800a503ef0246a8853d4d2c778997b3"
            }
          },
          "metadata": {}
        },
        {
          "output_type": "display_data",
          "data": {
            "text/plain": [
              "Generating train examples...:   0%|          | 0/75750 [00:00<?, ? examples/s]"
            ],
            "application/vnd.jupyter.widget-view+json": {
              "version_major": 2,
              "version_minor": 0,
              "model_id": "0b8afa3e42114d66af96c512dd17ae26"
            }
          },
          "metadata": {}
        },
        {
          "output_type": "display_data",
          "data": {
            "text/plain": [
              "Shuffling /root/tensorflow_datasets/food101/incomplete.HRIC26_2.0.0/food101-train.tfrecord*...:   0%|         …"
            ],
            "application/vnd.jupyter.widget-view+json": {
              "version_major": 2,
              "version_minor": 0,
              "model_id": "7421370f506444a7a9c1d9ac3ad23e8a"
            }
          },
          "metadata": {}
        },
        {
          "output_type": "display_data",
          "data": {
            "text/plain": [
              "Generating validation examples...:   0%|          | 0/25250 [00:00<?, ? examples/s]"
            ],
            "application/vnd.jupyter.widget-view+json": {
              "version_major": 2,
              "version_minor": 0,
              "model_id": "7fd6021a39ac485ab6db0020f04b4c90"
            }
          },
          "metadata": {}
        },
        {
          "output_type": "display_data",
          "data": {
            "text/plain": [
              "Shuffling /root/tensorflow_datasets/food101/incomplete.HRIC26_2.0.0/food101-validation.tfrecord*...:   0%|    …"
            ],
            "application/vnd.jupyter.widget-view+json": {
              "version_major": 2,
              "version_minor": 0,
              "model_id": "d97aa202796441c3915f63daf046c03c"
            }
          },
          "metadata": {}
        },
        {
          "output_type": "stream",
          "name": "stdout",
          "text": [
            "Dataset food101 downloaded and prepared to /root/tensorflow_datasets/food101/2.0.0. Subsequent calls will reuse this data.\n"
          ]
        }
      ]
    },
    {
      "cell_type": "markdown",
      "source": [
        "## Exploring the food 101 data from TensorFlow Datasets\n",
        "\n",
        "Prior to creating a model we'll need to explore and become one with the data. For this we want to find:\n",
        "* Class names\n",
        "* Input data shape\n",
        "* Input datatype\n",
        "* What labels look like (one-hot encoded or label encoded)\n",
        "* Are there any mismatches?"
      ],
      "metadata": {
        "id": "tHxIYhuh6u0U"
      }
    },
    {
      "cell_type": "code",
      "source": [
        "# Features of Food101 from TFDS\n",
        "ds_info.features"
      ],
      "metadata": {
        "id": "IU1i6Qkt4qi2",
        "colab": {
          "base_uri": "https://localhost:8080/"
        },
        "outputId": "28003ff5-1f9b-45db-9851-1eab64f6925e"
      },
      "execution_count": 5,
      "outputs": [
        {
          "output_type": "execute_result",
          "data": {
            "text/plain": [
              "FeaturesDict({\n",
              "    'image': Image(shape=(None, None, 3), dtype=uint8),\n",
              "    'label': ClassLabel(shape=(), dtype=int64, num_classes=101),\n",
              "})"
            ]
          },
          "metadata": {},
          "execution_count": 5
        }
      ]
    },
    {
      "cell_type": "code",
      "source": [
        "# Get the class names\n",
        "class_names = ds_info.features[\"label\"].names\n",
        "class_names"
      ],
      "metadata": {
        "id": "LuSS59276Lws",
        "colab": {
          "base_uri": "https://localhost:8080/"
        },
        "outputId": "085a3ee7-9252-4576-d8b4-a8ff2b94cfa8"
      },
      "execution_count": 6,
      "outputs": [
        {
          "output_type": "execute_result",
          "data": {
            "text/plain": [
              "['apple_pie',\n",
              " 'baby_back_ribs',\n",
              " 'baklava',\n",
              " 'beef_carpaccio',\n",
              " 'beef_tartare',\n",
              " 'beet_salad',\n",
              " 'beignets',\n",
              " 'bibimbap',\n",
              " 'bread_pudding',\n",
              " 'breakfast_burrito',\n",
              " 'bruschetta',\n",
              " 'caesar_salad',\n",
              " 'cannoli',\n",
              " 'caprese_salad',\n",
              " 'carrot_cake',\n",
              " 'ceviche',\n",
              " 'cheesecake',\n",
              " 'cheese_plate',\n",
              " 'chicken_curry',\n",
              " 'chicken_quesadilla',\n",
              " 'chicken_wings',\n",
              " 'chocolate_cake',\n",
              " 'chocolate_mousse',\n",
              " 'churros',\n",
              " 'clam_chowder',\n",
              " 'club_sandwich',\n",
              " 'crab_cakes',\n",
              " 'creme_brulee',\n",
              " 'croque_madame',\n",
              " 'cup_cakes',\n",
              " 'deviled_eggs',\n",
              " 'donuts',\n",
              " 'dumplings',\n",
              " 'edamame',\n",
              " 'eggs_benedict',\n",
              " 'escargots',\n",
              " 'falafel',\n",
              " 'filet_mignon',\n",
              " 'fish_and_chips',\n",
              " 'foie_gras',\n",
              " 'french_fries',\n",
              " 'french_onion_soup',\n",
              " 'french_toast',\n",
              " 'fried_calamari',\n",
              " 'fried_rice',\n",
              " 'frozen_yogurt',\n",
              " 'garlic_bread',\n",
              " 'gnocchi',\n",
              " 'greek_salad',\n",
              " 'grilled_cheese_sandwich',\n",
              " 'grilled_salmon',\n",
              " 'guacamole',\n",
              " 'gyoza',\n",
              " 'hamburger',\n",
              " 'hot_and_sour_soup',\n",
              " 'hot_dog',\n",
              " 'huevos_rancheros',\n",
              " 'hummus',\n",
              " 'ice_cream',\n",
              " 'lasagna',\n",
              " 'lobster_bisque',\n",
              " 'lobster_roll_sandwich',\n",
              " 'macaroni_and_cheese',\n",
              " 'macarons',\n",
              " 'miso_soup',\n",
              " 'mussels',\n",
              " 'nachos',\n",
              " 'omelette',\n",
              " 'onion_rings',\n",
              " 'oysters',\n",
              " 'pad_thai',\n",
              " 'paella',\n",
              " 'pancakes',\n",
              " 'panna_cotta',\n",
              " 'peking_duck',\n",
              " 'pho',\n",
              " 'pizza',\n",
              " 'pork_chop',\n",
              " 'poutine',\n",
              " 'prime_rib',\n",
              " 'pulled_pork_sandwich',\n",
              " 'ramen',\n",
              " 'ravioli',\n",
              " 'red_velvet_cake',\n",
              " 'risotto',\n",
              " 'samosa',\n",
              " 'sashimi',\n",
              " 'scallops',\n",
              " 'seaweed_salad',\n",
              " 'shrimp_and_grits',\n",
              " 'spaghetti_bolognese',\n",
              " 'spaghetti_carbonara',\n",
              " 'spring_rolls',\n",
              " 'steak',\n",
              " 'strawberry_shortcake',\n",
              " 'sushi',\n",
              " 'tacos',\n",
              " 'takoyaki',\n",
              " 'tiramisu',\n",
              " 'tuna_tartare',\n",
              " 'waffles']"
            ]
          },
          "metadata": {},
          "execution_count": 6
        }
      ]
    },
    {
      "cell_type": "code",
      "source": [
        "# Take one sample of the training dataset\n",
        "train_one_sample = train_data.take(1)\n",
        "\n",
        "# What does it look like?\n",
        "train_one_sample"
      ],
      "metadata": {
        "id": "H8KLRdw47iu9",
        "colab": {
          "base_uri": "https://localhost:8080/"
        },
        "outputId": "1d5cbea2-defa-482b-ddc9-148f3b71ad6b"
      },
      "execution_count": 7,
      "outputs": [
        {
          "output_type": "execute_result",
          "data": {
            "text/plain": [
              "<_TakeDataset element_spec=(TensorSpec(shape=(None, None, 3), dtype=tf.uint8, name=None), TensorSpec(shape=(), dtype=tf.int64, name=None))>"
            ]
          },
          "metadata": {},
          "execution_count": 7
        }
      ]
    },
    {
      "cell_type": "code",
      "source": [
        "# Output info about our training sample\n",
        "for image, label in train_one_sample:\n",
        "  print(f\"\"\"\n",
        "  Image shape: {image.shape}\n",
        "  Image datatype: {image.dtype}\n",
        "  Target class from Food101: {label}\n",
        "  Class name: {class_names[label.numpy()]}\n",
        "  \"\"\")"
      ],
      "metadata": {
        "id": "mRGw2wvD7vjz",
        "colab": {
          "base_uri": "https://localhost:8080/"
        },
        "outputId": "d5a23dea-ed88-4eca-b5c4-c4e275b95cf6"
      },
      "execution_count": 8,
      "outputs": [
        {
          "output_type": "stream",
          "name": "stdout",
          "text": [
            "\n",
            "  Image shape: (512, 512, 3)\n",
            "  Image datatype: <dtype: 'uint8'>\n",
            "  Target class from Food101: 77\n",
            "  Class name: pork_chop\n",
            "  \n"
          ]
        }
      ]
    },
    {
      "cell_type": "markdown",
      "source": [
        "**Note:** Here we notice that classes are not one-hot encoded, so we'll probably need to use sparse categorical crossentropy for loss"
      ],
      "metadata": {
        "id": "fnIROg3b8spr"
      }
    },
    {
      "cell_type": "code",
      "source": [
        "# What do the image tensors look like?\n",
        "image"
      ],
      "metadata": {
        "id": "RjAz3dqQ9Tbo",
        "colab": {
          "base_uri": "https://localhost:8080/"
        },
        "outputId": "61cc8cdd-bf23-479a-d54e-2eed11a5be02"
      },
      "execution_count": 9,
      "outputs": [
        {
          "output_type": "execute_result",
          "data": {
            "text/plain": [
              "<tf.Tensor: shape=(512, 512, 3), dtype=uint8, numpy=\n",
              "array([[[ 64,  27,  11],\n",
              "        [ 73,  36,  20],\n",
              "        [ 83,  46,  28],\n",
              "        ...,\n",
              "        [150, 105,  82],\n",
              "        [138,  93,  72],\n",
              "        [134,  89,  68]],\n",
              "\n",
              "       [[ 69,  32,  16],\n",
              "        [ 70,  33,  17],\n",
              "        [ 72,  35,  17],\n",
              "        ...,\n",
              "        [155, 110,  87],\n",
              "        [141,  96,  75],\n",
              "        [135,  90,  69]],\n",
              "\n",
              "       [[ 71,  35,  19],\n",
              "        [ 65,  29,  13],\n",
              "        [ 61,  26,   7],\n",
              "        ...,\n",
              "        [162, 118,  93],\n",
              "        [144, 102,  78],\n",
              "        [137,  95,  71]],\n",
              "\n",
              "       ...,\n",
              "\n",
              "       [[210,  82,  21],\n",
              "        [208,  80,  19],\n",
              "        [205,  77,  14],\n",
              "        ...,\n",
              "        [223, 172, 115],\n",
              "        [226, 175, 118],\n",
              "        [224, 173, 116]],\n",
              "\n",
              "       [[199,  71,   8],\n",
              "        [199,  71,   8],\n",
              "        [198,  70,   7],\n",
              "        ...,\n",
              "        [224, 173, 116],\n",
              "        [226, 175, 118],\n",
              "        [223, 172, 115]],\n",
              "\n",
              "       [[204,  76,  13],\n",
              "        [204,  76,  13],\n",
              "        [203,  75,  12],\n",
              "        ...,\n",
              "        [225, 174, 117],\n",
              "        [225, 174, 117],\n",
              "        [221, 170, 113]]], dtype=uint8)>"
            ]
          },
          "metadata": {},
          "execution_count": 9
        }
      ]
    },
    {
      "cell_type": "markdown",
      "source": [
        "**Note:** we can see the values are not between 0 and 1, so we'll need to normalize the data"
      ],
      "metadata": {
        "id": "Q-S78u029dw7"
      }
    },
    {
      "cell_type": "code",
      "source": [
        "# What are the min and max values of our image tensor?\n",
        "tf.reduce_min(image), tf.reduce_max(image)"
      ],
      "metadata": {
        "id": "1q93vJyM9uKr",
        "colab": {
          "base_uri": "https://localhost:8080/"
        },
        "outputId": "c2812f64-5806-41ad-e517-13f359c8dc29"
      },
      "execution_count": 10,
      "outputs": [
        {
          "output_type": "execute_result",
          "data": {
            "text/plain": [
              "(<tf.Tensor: shape=(), dtype=uint8, numpy=0>,\n",
              " <tf.Tensor: shape=(), dtype=uint8, numpy=255>)"
            ]
          },
          "metadata": {},
          "execution_count": 10
        }
      ]
    },
    {
      "cell_type": "markdown",
      "source": [
        "## Plot an image from TensorFlow Datasets\n"
      ],
      "metadata": {
        "id": "35iJZNgm-miD"
      }
    },
    {
      "cell_type": "code",
      "source": [
        "# Plot an image tensor\n",
        "import matplotlib\n",
        "import matplotlib.pyplot as plt\n",
        "plt.imshow(image)\n",
        "plt.title(class_names[label.numpy()])\n",
        "plt.axis = False"
      ],
      "metadata": {
        "id": "3cJD7rpe-vJ8",
        "colab": {
          "base_uri": "https://localhost:8080/",
          "height": 452
        },
        "outputId": "72f9998c-d8a1-4081-8206-834e0b522759"
      },
      "execution_count": 11,
      "outputs": [
        {
          "output_type": "display_data",
          "data": {
            "text/plain": [
              "<Figure size 640x480 with 1 Axes>"
            ],
            "image/png": "[encoded data removed]"
          },
          "metadata": {}
        }
      ]
    },
    {
      "cell_type": "markdown",
      "source": [
        "## Create preprocessing functions for our data\n",
        "What we know from our data:\n",
        "* In uint8 datatype\n",
        "* Different sized images\n",
        "* Not normalized\n",
        "\n",
        "What models like:\n",
        "* Data in float32 or float16 (or both in our case)\n",
        "* Normalized data\n",
        "* TensorFlow likes all of the tensors within a batch of the same size\n",
        "\n",
        "With this in mind, we'll tackle the preprocessing of our data\n"
      ],
      "metadata": {
        "id": "XnO5dvX0-6Wm"
      }
    },
    {
      "cell_type": "code",
      "source": [
        "# Make a function to preprocess images\n",
        "def preprocess_img(image, label, img_shape = 224):\n",
        "  \"\"\"\n",
        "  Converts image datatype to float32 and reshapes image to\n",
        "  [img_shape, img_shape, color_channels]\n",
        "  \"\"\"\n",
        "  image = tf.image.resize(image, [img_shape, img_shape])\n",
        "  return tf.cast(image, tf.float32), label"
      ],
      "metadata": {
        "id": "YZr4cRYfFyXV"
      },
      "execution_count": 12,
      "outputs": []
    },
    {
      "cell_type": "code",
      "source": [
        "# Preprocess a single image and check the outputs\n",
        "preprocessed_img = preprocess_img(image, label)[0]\n",
        "print(f\"Image before preprocessing: \\n {image[:2]}..., \\n Shape: {image.shape}, \\n Datatype: {image.dtype} \\n\")\n",
        "print(f\"Image after preprocessing: \\n {preprocessed_img[:2]}..., \\n Shape: {preprocessed_img.shape}, \\n Datatype: {preprocessed_img.dtype}\")"
      ],
      "metadata": {
        "id": "-sqTp_CmIb_W",
        "colab": {
          "base_uri": "https://localhost:8080/"
        },
        "outputId": "af7848a9-0c17-49b5-d8cc-eddd5face7a3"
      },
      "execution_count": 13,
      "outputs": [
        {
          "output_type": "stream",
          "name": "stdout",
          "text": [
            "Image before preprocessing: \n",
            " [[[ 64  27  11]\n",
            "  [ 73  36  20]\n",
            "  [ 83  46  28]\n",
            "  ...\n",
            "  [150 105  82]\n",
            "  [138  93  72]\n",
            "  [134  89  68]]\n",
            "\n",
            " [[ 69  32  16]\n",
            "  [ 70  33  17]\n",
            "  [ 72  35  17]\n",
            "  ...\n",
            "  [155 110  87]\n",
            "  [141  96  75]\n",
            "  [135  90  69]]]..., \n",
            " Shape: (512, 512, 3), \n",
            " Datatype: <dtype: 'uint8'> \n",
            "\n",
            "Image after preprocessing: \n",
            " [[[ 69.69388    32.69388    16.693878 ]\n",
            "  [ 78.44898    41.44898    22.520409 ]\n",
            "  [ 78.35204    42.566326   16.137754 ]\n",
            "  ...\n",
            "  [211.34154   166.91301   141.69875  ]\n",
            "  [172.38239   127.382385  104.382385 ]\n",
            "  [138.04063    93.040634   72.040634 ]]\n",
            "\n",
            " [[ 63.693874   28.290815   10.499998 ]\n",
            "  [ 60.137756   25.137754    3.2857132]\n",
            "  [ 68.54082    33.484695    5.198978 ]\n",
            "  ...\n",
            "  [208.20901   164.19371   136.76518  ]\n",
            "  [184.3518    140.48448   113.76002  ]\n",
            "  [146.6731    104.673096   79.74452  ]]]..., \n",
            " Shape: (224, 224, 3), \n",
            " Datatype: <dtype: 'float32'>\n"
          ]
        }
      ]
    },
    {
      "cell_type": "markdown",
      "source": [
        "## Batch and prepare datasets\n",
        "\n",
        "Making the data input pipeline run really fast"
      ],
      "metadata": {
        "id": "aOv1ZrPYJ-77"
      }
    },
    {
      "cell_type": "code",
      "source": [
        "# Map preprocessing function to training (and paralelize)\n",
        "train_data = train_data.map(map_func = preprocess_img, num_parallel_calls = tf.data.AUTOTUNE)\n",
        "\n",
        "# Shuffle train_data and turn it into batches and prefetch it\n",
        "train_data = train_data.shuffle(buffer_size = 1000).batch(batch_size = 32).prefetch(buffer_size = tf.data.AUTOTUNE)\n",
        "\n",
        "# Map preprocessing function to test data\n",
        "test_data = test_data.map(preprocess_img, num_parallel_calls = tf.data.AUTOTUNE).batch(32).prefetch(tf.data.AUTOTUNE).cache() # Comment this line\n"
      ],
      "metadata": {
        "id": "S1aR4xJ7KoM_"
      },
      "execution_count": 14,
      "outputs": []
    },
    {
      "cell_type": "markdown",
      "source": [
        "**Update:** Colab had some inconsistent performance, so if the model chrashes when testing, please comment the indicated line above, and uncomment the following code"
      ],
      "metadata": {
        "id": "wm6wRrNNksnr"
      }
    },
    {
      "cell_type": "code",
      "source": [
        "\"\"\"\n",
        "test_data\n",
        "test_data = test_data.map(preprocess_img).batch(32)\n",
        "test_data\n",
        "\"\"\""
      ],
      "metadata": {
        "id": "HkYusGXRk_kk",
        "colab": {
          "base_uri": "https://localhost:8080/",
          "height": 36
        },
        "outputId": "dc8e67b1-3e8a-42a5-8610-45b70f13b7dc"
      },
      "execution_count": 15,
      "outputs": [
        {
          "output_type": "execute_result",
          "data": {
            "text/plain": [
              "'\\ntest_data\\ntest_data = test_data.map(preprocess_img).batch(32)\\ntest_data\\n'"
            ],
            "application/vnd.google.colaboratory.intrinsic+json": {
              "type": "string"
            }
          },
          "metadata": {},
          "execution_count": 15
        }
      ]
    },
    {
      "cell_type": "markdown",
      "source": [
        "## Create modelling callbacks\n"
      ],
      "metadata": {
        "id": "0V2tCG2FOVEK"
      }
    },
    {
      "cell_type": "code",
      "source": [
        "# Create ModelChackpoint callback to save a model's progress during training\n",
        "checkpoint_path = \"model_checkpoints/cp.ckpt\"\n",
        "model_checkpoint = tf.keras.callbacks.ModelCheckpoint(checkpoint_path,\n",
        "                                                      monitor = \"val_acc\",\n",
        "                                                      save_best_only = True,\n",
        "                                                      save_weights_only = True,\n",
        "                                                      verbose = 1)"
      ],
      "metadata": {
        "id": "foCea_n8QcTY"
      },
      "execution_count": 16,
      "outputs": []
    },
    {
      "cell_type": "markdown",
      "source": [
        "## Setup Mixed precision training\n",
        "This will allow us to speed up training by using float16 instead of floar32 whenever possible"
      ],
      "metadata": {
        "id": "2wkytm1qSALZ"
      }
    },
    {
      "cell_type": "code",
      "source": [
        "# Turn on mixed precision training\n",
        "from tensorflow.keras import mixed_precision\n",
        "mixed_precision.set_global_policy(\"mixed_float16\")"
      ],
      "metadata": {
        "id": "spw7r7pqS2fQ"
      },
      "execution_count": 17,
      "outputs": []
    },
    {
      "cell_type": "markdown",
      "source": [
        "## Build feature extraction model"
      ],
      "metadata": {
        "id": "kYeCJN_Aam0_"
      }
    },
    {
      "cell_type": "code",
      "source": [
        "# Create data augmentation layer to incorporate it right into the model\n",
        "from tensorflow.keras import layers\n",
        "from tensorflow.keras.layers.experimental import preprocessing\n",
        "from tensorflow.keras import Sequential\n",
        "\n",
        "# Setup data augmentation\n",
        "data_augmentation = Sequential([\n",
        "    preprocessing.RandomFlip(\"horizontal\"),\n",
        "    preprocessing.RandomRotation(0.2),\n",
        "    preprocessing.RandomHeight(0.2),\n",
        "    preprocessing.RandomWidth(0.2),\n",
        "    preprocessing.RandomZoom(0.2),\n",
        "], name = \"Data_augmentation\")"
      ],
      "metadata": {
        "id": "Qilqx6bSEo2I"
      },
      "execution_count": 46,
      "outputs": []
    },
    {
      "cell_type": "code",
      "source": [
        "from tensorflow.keras import layers\n",
        "\n",
        "# Create base model\n",
        "input_shape = (224, 224, 3)\n",
        "base_model = tf.keras.applications.EfficientNetB0(include_top = False)\n",
        "base_model.trainable = False\n",
        "\n",
        "# Create functional model\n",
        "inputs = layers.Input(shape = input_shape, name = \"input_layer\") # Since efficientnet has a rescaling layer, we don't need to normalize data\n",
        "x = data_augmentation(inputs)\n",
        "x = base_model(inputs, training = False)\n",
        "x = layers.GlobalAveragePooling2D()(x)\n",
        "x = layers.Dropout(0.2)(x)\n",
        "x = layers.Dense(len(class_names))(x)\n",
        "x = layers.Dropout(0.2)(x)\n",
        "outputs = layers.Activation(\"softmax\", dtype = tf.float32, name = \"softmax_float32\")(x)\n",
        "model = tf.keras.Model(inputs, outputs)\n",
        "\n",
        "# Compile\n",
        "model.compile(loss = \"sparse_categorical_crossentropy\",\n",
        "              optimizer = tf.keras.optimizers.Adam(),\n",
        "              metrics = [\"accuracy\"])"
      ],
      "metadata": {
        "id": "Gk3UGBYLeD27"
      },
      "execution_count": 98,
      "outputs": []
    },
    {
      "cell_type": "code",
      "source": [
        "# Visualize our model\n",
        "model.summary()"
      ],
      "metadata": {
        "id": "OohPRyZqgIXK",
        "colab": {
          "base_uri": "https://localhost:8080/"
        },
        "outputId": "e4894a7c-d835-410e-c44f-bfd7e7738e44"
      },
      "execution_count": 32,
      "outputs": [
        {
          "output_type": "stream",
          "name": "stdout",
          "text": [
            "Model: \"model_1\"\n",
            "_________________________________________________________________\n",
            " Layer (type)                Output Shape              Param #   \n",
            "=================================================================\n",
            " input_layer (InputLayer)    [(None, 224, 224, 3)]     0         \n",
            "                                                                 \n",
            " efficientnetb0 (Functional  (None, None, None, 1280   4049571   \n",
            " )                           )                                   \n",
            "                                                                 \n",
            " global_average_pooling2d_1  (None, 1280)              0         \n",
            "  (GlobalAveragePooling2D)                                       \n",
            "                                                                 \n",
            " dense_1 (Dense)             (None, 101)               129381    \n",
            "                                                                 \n",
            " softmax_float32 (Activatio  (None, 101)               0         \n",
            " n)                                                              \n",
            "                                                                 \n",
            "=================================================================\n",
            "Total params: 4178952 (15.94 MB)\n",
            "Trainable params: 129381 (505.39 KB)\n",
            "Non-trainable params: 4049571 (15.45 MB)\n",
            "_________________________________________________________________\n"
          ]
        }
      ]
    },
    {
      "cell_type": "markdown",
      "source": [
        "## Checking layer dtype policies"
      ],
      "metadata": {
        "id": "IlhqhnNYgLIQ"
      }
    },
    {
      "cell_type": "code",
      "source": [
        "for layer in model.layers:\n",
        "  print(layer.name, layer.trainable, layer.dtype, layer.dtype_policy)"
      ],
      "metadata": {
        "id": "N8S_ZOw-gf54",
        "colab": {
          "base_uri": "https://localhost:8080/"
        },
        "outputId": "75248087-87d3-4fc5-be0c-01c5de416cb5"
      },
      "execution_count": 63,
      "outputs": [
        {
          "output_type": "stream",
          "name": "stdout",
          "text": [
            "input_layer True float32 <Policy \"float32\">\n",
            "efficientnetb0 False float32 <Policy \"mixed_float16\">\n",
            "global_average_pooling2d_4 True float32 <Policy \"mixed_float16\">\n",
            "dropout_1 True float32 <Policy \"mixed_float16\">\n",
            "dense_4 True float32 <Policy \"mixed_float16\">\n",
            "dropout_2 True float32 <Policy \"mixed_float16\">\n",
            "softmax_float32 True float32 <Policy \"float32\">\n"
          ]
        }
      ]
    },
    {
      "cell_type": "markdown",
      "source": [
        "We are indeed using mixed precision for the main model"
      ],
      "metadata": {
        "id": "QPaMK5cYhMs6"
      }
    },
    {
      "cell_type": "markdown",
      "source": [
        "## Fitting the model"
      ],
      "metadata": {
        "id": "oN5cPJhliPUD"
      }
    },
    {
      "cell_type": "markdown",
      "source": [
        "### Set 1: Beating 50.71% with 10% of the data"
      ],
      "metadata": {
        "id": "R3Hi1t1dZ7ZZ"
      }
    },
    {
      "cell_type": "code",
      "source": [
        "# Fitting the model\n",
        "history_10_percent = model.fit(train_data,\n",
        "                               epochs = 5,\n",
        "                               steps_per_epoch = int(0.1 * len(train_data)), # Making the time the model is able to look at the training data 10% of the total length\n",
        "                               validation_data = test_data,\n",
        "                               validation_steps = int(0.15*len(test_data)))"
      ],
      "metadata": {
        "colab": {
          "base_uri": "https://localhost:8080/"
        },
        "id": "onfyLif6aNk0",
        "outputId": "481bde60-7c66-4a77-8126-34d97cc34c08"
      },
      "execution_count": 99,
      "outputs": [
        {
          "output_type": "stream",
          "name": "stdout",
          "text": [
            "Epoch 1/5\n",
            "236/236 [==============================] - 16s 35ms/step - loss: 3.4987 - accuracy: 0.2544 - val_loss: 2.3659 - val_accuracy: 0.5140\n",
            "Epoch 2/5\n",
            "236/236 [==============================] - 7s 28ms/step - loss: 2.6566 - accuracy: 0.4153 - val_loss: 1.9004 - val_accuracy: 0.5869\n",
            "Epoch 3/5\n",
            "236/236 [==============================] - 7s 28ms/step - loss: 2.4467 - accuracy: 0.4586 - val_loss: 1.6890 - val_accuracy: 0.6324\n",
            "Epoch 4/5\n",
            "236/236 [==============================] - 6s 27ms/step - loss: 2.3633 - accuracy: 0.4795 - val_loss: 1.5855 - val_accuracy: 0.6510\n",
            "Epoch 5/5\n",
            "236/236 [==============================] - 7s 28ms/step - loss: 2.2801 - accuracy: 0.4840 - val_loss: 1.5114 - val_accuracy: 0.6525\n"
          ]
        }
      ]
    },
    {
      "cell_type": "markdown",
      "source": [
        "Looks good, let's now evaluate the model. Keep an eye on the \"Accuracy\" metric in the console."
      ],
      "metadata": {
        "id": "Af2iubn-evkS"
      }
    },
    {
      "cell_type": "code",
      "source": [
        "model.evaluate(test_data)"
      ],
      "metadata": {
        "colab": {
          "base_uri": "https://localhost:8080/"
        },
        "id": "_oX63FJhe5lW",
        "outputId": "4f693b05-582a-4033-acea-66baf75d6689"
      },
      "execution_count": 100,
      "outputs": [
        {
          "output_type": "stream",
          "name": "stdout",
          "text": [
            "790/790 [==============================] - 11s 14ms/step - loss: 1.5204 - accuracy: 0.6535\n"
          ]
        },
        {
          "output_type": "execute_result",
          "data": {
            "text/plain": [
              "[1.520414113998413, 0.6534653306007385]"
            ]
          },
          "metadata": {},
          "execution_count": 100
        }
      ]
    },
    {
      "cell_type": "markdown",
      "source": [
        "That was easier than anticipated... let's go to the next opponent"
      ],
      "metadata": {
        "id": "fksdYHPYfATB"
      }
    },
    {
      "cell_type": "markdown",
      "source": [
        "### Set 2: Beating 77.4% with the full dataset"
      ],
      "metadata": {
        "id": "8auApbwPef3p"
      }
    },
    {
      "cell_type": "code",
      "source": [
        "# Lets recompile the model to reset all of the previously learned biases\n",
        "model.compile(loss=\"sparse_categorical_crossentropy\",\n",
        "              optimizer=tf.keras.optimizers.Adam(),\n",
        "              metrics=[\"accuracy\"])"
      ],
      "metadata": {
        "id": "6igmPqZYgJ6E"
      },
      "execution_count": null,
      "outputs": []
    },
    {
      "cell_type": "code",
      "source": [
        "# Fitting the model with preprocessed data and callback function to prepare for fine tuning\n",
        "history = model.fit(train_data,\n",
        "                    epochs = 3,\n",
        "                    steps_per_epoch = len(train_data),\n",
        "                    validation_data = test_data,\n",
        "                    validation_steps = int(0.25*len(test_data)),\n",
        "                    callbacks = [model_checkpoint])"
      ],
      "metadata": {
        "id": "cmGqKnUdikYP",
        "colab": {
          "base_uri": "https://localhost:8080/"
        },
        "outputId": "faede5e5-9460-4418-c86a-26304eeb9284"
      },
      "execution_count": 91,
      "outputs": [
        {
          "output_type": "stream",
          "name": "stdout",
          "text": [
            "Epoch 1/3\n",
            "2368/2368 [==============================] - 66s 23ms/step - loss: 2.4234 - accuracy: 0.4595 - val_loss: 1.3082 - val_accuracy: 0.6839\n",
            "Epoch 2/3\n",
            "2368/2368 [==============================] - 54s 23ms/step - loss: 1.9925 - accuracy: 0.5443 - val_loss: 1.1738 - val_accuracy: 0.7067\n",
            "Epoch 3/3\n",
            "2368/2368 [==============================] - 53s 22ms/step - loss: 1.8918 - accuracy: 0.5631 - val_loss: 1.1236 - val_accuracy: 0.7141\n"
          ]
        }
      ]
    },
    {
      "cell_type": "markdown",
      "source": [
        "Let's evaluate the model."
      ],
      "metadata": {
        "id": "Jxq60AEveaoH"
      }
    },
    {
      "cell_type": "code",
      "source": [
        "model.evaluate(test_data)"
      ],
      "metadata": {
        "id": "Amb73z7rynfB",
        "colab": {
          "base_uri": "https://localhost:8080/"
        },
        "outputId": "9e51eb10-6156-4711-fda8-78c5e47046fc"
      },
      "execution_count": 65,
      "outputs": [
        {
          "output_type": "stream",
          "name": "stdout",
          "text": [
            "790/790 [==============================] - 11s 14ms/step - loss: 1.1291 - accuracy: 0.7195\n"
          ]
        },
        {
          "output_type": "execute_result",
          "data": {
            "text/plain": [
              "[1.1290900707244873, 0.7194851636886597]"
            ]
          },
          "metadata": {},
          "execution_count": 65
        }
      ]
    },
    {
      "cell_type": "markdown",
      "source": [
        "Ok, looks like we'll need to fine tune. But first let's plot the loss curves to see if there's any overfitting with my handy helper function."
      ],
      "metadata": {
        "id": "zsp1gAolytap"
      }
    },
    {
      "cell_type": "code",
      "source": [
        "plot_loss_curves(history)"
      ],
      "metadata": {
        "colab": {
          "base_uri": "https://localhost:8080/",
          "height": 927
        },
        "id": "jHTVznGECXT0",
        "outputId": "7e5a4c1b-85eb-43d2-8bf2-c6ccec153fa7"
      },
      "execution_count": 52,
      "outputs": [
        {
          "output_type": "display_data",
          "data": {
            "text/plain": [
              "<Figure size 640x480 with 1 Axes>"
            ],
            "image/png": "[encoded data removed]"
          },
          "metadata": {}
        },
        {
          "output_type": "display_data",
          "data": {
            "text/plain": [
              "<Figure size 640x480 with 1 Axes>"
            ],
            "image/png": "[encoded data removed]"
          },
          "metadata": {}
        }
      ]
    },
    {
      "cell_type": "markdown",
      "source": [
        "### Fine Tuning the model\n",
        "\n",
        "We've only done 13,750 iterations. So it's safe to say we can still fine tune and fit for a few more epochs while respecting the challenge parameters.\n",
        "\n",
        "First, let's write a couple more callbacks."
      ],
      "metadata": {
        "id": "wW5wBkog4xdA"
      }
    },
    {
      "cell_type": "code",
      "source": [
        "# Setup EarlyStopping callback\n",
        "early_stopping = tf.keras.callbacks.EarlyStopping(monitor = \"val_loss\",\n",
        "                                 patience = 3)\n",
        "\n",
        "# Create ModelCheckpoint callback to save best model during fine-tuning\n",
        "checkpoint_path = \"fine_tune_checkpoints/\"\n",
        "model_checkpoint = tf.keras.callbacks.ModelCheckpoint(checkpoint_path,\n",
        "                                                      save_best_only=True,\n",
        "                                                      monitor=\"val_loss\")\n",
        "\n",
        "# Creating learning rate reduction callback\n",
        "reduce_lr = tf.keras.callbacks.ReduceLROnPlateau(monitor=\"val_loss\",\n",
        "                                                 factor=0.2, # multiply the learning rate by 0.2 (reduce by 5x)\n",
        "                                                 patience=2,\n",
        "                                                 verbose=1, # print out when learning rate goes down\n",
        "                                                 min_lr=1e-7)\n"
      ],
      "metadata": {
        "id": "onHN6sCKO2Gv"
      },
      "execution_count": 92,
      "outputs": []
    },
    {
      "cell_type": "code",
      "source": [
        "# Unfreeze all of the layers in the base model\n",
        "base_model.trainable = True\n",
        "# Refreeze every layer except the last 5\n",
        "for layer in base_model.layers[:-5]:\n",
        "  layer.trainable = False"
      ],
      "metadata": {
        "id": "Gz5-e-SQVwmF"
      },
      "execution_count": 93,
      "outputs": []
    },
    {
      "cell_type": "code",
      "source": [
        "# Compile the model\n",
        "model.compile(loss=\"sparse_categorical_crossentropy\",\n",
        "              optimizer=tf.keras.optimizers.Adam(0.0001),\n",
        "              metrics=[\"accuracy\"])"
      ],
      "metadata": {
        "id": "nPdmhPM4PzOV"
      },
      "execution_count": 94,
      "outputs": []
    },
    {
      "cell_type": "code",
      "source": [
        "# Start to fine-tune (all layers)\n",
        "fine_tune_history = model.fit(train_data,\n",
        "                                epochs=100, # fine-tune for a maximum of 100 epochs\n",
        "                                steps_per_epoch=len(train_data),\n",
        "                                validation_data=test_data,\n",
        "                                validation_steps=int(0.15 * len(test_data)),\n",
        "                                callbacks=[model_checkpoint,\n",
        "                                           early_stopping,\n",
        "                                           reduce_lr],\n",
        "                                initial_epoch = history.epoch[-1] + 1)"
      ],
      "metadata": {
        "colab": {
          "base_uri": "https://localhost:8080/"
        },
        "id": "tP-Z1S1yP0vj",
        "outputId": "35c531f0-7818-4f9b-ac4c-d50eeb8c3348"
      },
      "execution_count": 95,
      "outputs": [
        {
          "output_type": "stream",
          "name": "stdout",
          "text": [
            "Epoch 4/100\n",
            "2368/2368 [==============================] - 92s 35ms/step - loss: 1.7326 - accuracy: 0.5973 - val_loss: 0.9977 - val_accuracy: 0.7511 - lr: 1.0000e-04\n",
            "Epoch 5/100\n",
            "2368/2368 [==============================] - 80s 34ms/step - loss: 1.6330 - accuracy: 0.6174 - val_loss: 0.9540 - val_accuracy: 0.7540 - lr: 1.0000e-04\n",
            "Epoch 6/100\n",
            "2368/2368 [==============================] - 84s 35ms/step - loss: 1.5657 - accuracy: 0.6311 - val_loss: 0.9305 - val_accuracy: 0.7614 - lr: 1.0000e-04\n",
            "Epoch 7/100\n",
            "2368/2368 [==============================] - 83s 35ms/step - loss: 1.5238 - accuracy: 0.6386 - val_loss: 0.9194 - val_accuracy: 0.7593 - lr: 1.0000e-04\n",
            "Epoch 8/100\n",
            "2368/2368 [==============================] - 84s 35ms/step - loss: 1.4778 - accuracy: 0.6480 - val_loss: 0.9017 - val_accuracy: 0.7624 - lr: 1.0000e-04\n",
            "Epoch 9/100\n",
            "2368/2368 [==============================] - 84s 35ms/step - loss: 1.4284 - accuracy: 0.6610 - val_loss: 0.8957 - val_accuracy: 0.7672 - lr: 1.0000e-04\n",
            "Epoch 10/100\n",
            "2368/2368 [==============================] - 81s 34ms/step - loss: 1.3984 - accuracy: 0.6675 - val_loss: 0.8720 - val_accuracy: 0.7662 - lr: 1.0000e-04\n",
            "Epoch 11/100\n",
            "2368/2368 [==============================] - 85s 36ms/step - loss: 1.3662 - accuracy: 0.6730 - val_loss: 0.8664 - val_accuracy: 0.7738 - lr: 1.0000e-04\n",
            "Epoch 12/100\n",
            "2368/2368 [==============================] - 84s 35ms/step - loss: 1.3320 - accuracy: 0.6811 - val_loss: 0.8598 - val_accuracy: 0.7762 - lr: 1.0000e-04\n",
            "Epoch 13/100\n",
            "2368/2368 [==============================] - 84s 35ms/step - loss: 1.2989 - accuracy: 0.6870 - val_loss: 0.8557 - val_accuracy: 0.7728 - lr: 1.0000e-04\n",
            "Epoch 14/100\n",
            "2368/2368 [==============================] - 80s 34ms/step - loss: 1.2618 - accuracy: 0.6970 - val_loss: 0.8435 - val_accuracy: 0.7760 - lr: 1.0000e-04\n",
            "Epoch 15/100\n",
            "2368/2368 [==============================] - 56s 24ms/step - loss: 1.2462 - accuracy: 0.6993 - val_loss: 0.8511 - val_accuracy: 0.7693 - lr: 1.0000e-04\n",
            "Epoch 16/100\n",
            "2368/2368 [==============================] - 84s 35ms/step - loss: 1.2299 - accuracy: 0.7028 - val_loss: 0.8413 - val_accuracy: 0.7775 - lr: 1.0000e-04\n",
            "Epoch 17/100\n",
            "2368/2368 [==============================] - 56s 24ms/step - loss: 1.1975 - accuracy: 0.7102 - val_loss: 0.8445 - val_accuracy: 0.7781 - lr: 1.0000e-04\n",
            "Epoch 18/100\n",
            "2366/2368 [============================>.] - ETA: 0s - loss: 1.1893 - accuracy: 0.7121\n",
            "Epoch 18: ReduceLROnPlateau reducing learning rate to 1.9999999494757503e-05.\n",
            "2368/2368 [==============================] - 57s 24ms/step - loss: 1.1892 - accuracy: 0.7121 - val_loss: 0.8419 - val_accuracy: 0.7754 - lr: 1.0000e-04\n",
            "Epoch 19/100\n",
            "2368/2368 [==============================] - 85s 36ms/step - loss: 1.1185 - accuracy: 0.7296 - val_loss: 0.8223 - val_accuracy: 0.7818 - lr: 2.0000e-05\n",
            "Epoch 20/100\n",
            "2368/2368 [==============================] - 84s 35ms/step - loss: 1.1165 - accuracy: 0.7299 - val_loss: 0.8214 - val_accuracy: 0.7834 - lr: 2.0000e-05\n",
            "Epoch 21/100\n",
            "2368/2368 [==============================] - 79s 33ms/step - loss: 1.1007 - accuracy: 0.7333 - val_loss: 0.8185 - val_accuracy: 0.7836 - lr: 2.0000e-05\n",
            "Epoch 22/100\n",
            "2368/2368 [==============================] - 56s 23ms/step - loss: 1.0989 - accuracy: 0.7329 - val_loss: 0.8198 - val_accuracy: 0.7836 - lr: 2.0000e-05\n",
            "Epoch 23/100\n",
            "2368/2368 [==============================] - 84s 35ms/step - loss: 1.0958 - accuracy: 0.7346 - val_loss: 0.8182 - val_accuracy: 0.7858 - lr: 2.0000e-05\n",
            "Epoch 24/100\n",
            "2368/2368 [==============================] - 56s 23ms/step - loss: 1.0833 - accuracy: 0.7374 - val_loss: 0.8198 - val_accuracy: 0.7850 - lr: 2.0000e-05\n",
            "Epoch 25/100\n",
            "2367/2368 [============================>.] - ETA: 0s - loss: 1.0822 - accuracy: 0.7380\n",
            "Epoch 25: ReduceLROnPlateau reducing learning rate to 3.999999898951501e-06.\n",
            "2368/2368 [==============================] - 56s 24ms/step - loss: 1.0821 - accuracy: 0.7380 - val_loss: 0.8195 - val_accuracy: 0.7863 - lr: 2.0000e-05\n",
            "Epoch 26/100\n",
            "2368/2368 [==============================] - 84s 35ms/step - loss: 1.0830 - accuracy: 0.7379 - val_loss: 0.8167 - val_accuracy: 0.7860 - lr: 4.0000e-06\n",
            "Epoch 27/100\n",
            "2368/2368 [==============================] - 80s 34ms/step - loss: 1.0784 - accuracy: 0.7379 - val_loss: 0.8164 - val_accuracy: 0.7852 - lr: 4.0000e-06\n",
            "Epoch 28/100\n",
            "2368/2368 [==============================] - 84s 35ms/step - loss: 1.0719 - accuracy: 0.7403 - val_loss: 0.8160 - val_accuracy: 0.7858 - lr: 4.0000e-06\n",
            "Epoch 29/100\n",
            "2368/2368 [==============================] - 84s 35ms/step - loss: 1.0683 - accuracy: 0.7416 - val_loss: 0.8159 - val_accuracy: 0.7852 - lr: 4.0000e-06\n",
            "Epoch 30/100\n",
            "2368/2368 [==============================] - 84s 35ms/step - loss: 1.0757 - accuracy: 0.7381 - val_loss: 0.8154 - val_accuracy: 0.7876 - lr: 4.0000e-06\n",
            "Epoch 31/100\n",
            "2368/2368 [==============================] - 80s 33ms/step - loss: 1.0734 - accuracy: 0.7391 - val_loss: 0.8150 - val_accuracy: 0.7858 - lr: 4.0000e-06\n",
            "Epoch 32/100\n",
            "2368/2368 [==============================] - 84s 35ms/step - loss: 1.0726 - accuracy: 0.7395 - val_loss: 0.8146 - val_accuracy: 0.7868 - lr: 4.0000e-06\n",
            "Epoch 33/100\n",
            "2368/2368 [==============================] - 56s 23ms/step - loss: 1.0694 - accuracy: 0.7406 - val_loss: 0.8147 - val_accuracy: 0.7871 - lr: 4.0000e-06\n",
            "Epoch 34/100\n",
            "2368/2368 [==============================] - 84s 35ms/step - loss: 1.0641 - accuracy: 0.7416 - val_loss: 0.8144 - val_accuracy: 0.7865 - lr: 4.0000e-06\n",
            "Epoch 35/100\n",
            "2368/2368 [==============================] - 79s 33ms/step - loss: 1.0626 - accuracy: 0.7420 - val_loss: 0.8143 - val_accuracy: 0.7884 - lr: 4.0000e-06\n",
            "Epoch 36/100\n",
            "2368/2368 [==============================] - 56s 23ms/step - loss: 1.0660 - accuracy: 0.7412 - val_loss: 0.8143 - val_accuracy: 0.7871 - lr: 4.0000e-06\n",
            "Epoch 37/100\n",
            "2367/2368 [============================>.] - ETA: 0s - loss: 1.0653 - accuracy: 0.7410\n",
            "Epoch 37: ReduceLROnPlateau reducing learning rate to 7.999999979801942e-07.\n",
            "2368/2368 [==============================] - 56s 23ms/step - loss: 1.0653 - accuracy: 0.7410 - val_loss: 0.8146 - val_accuracy: 0.7863 - lr: 4.0000e-06\n",
            "Epoch 38/100\n",
            "2368/2368 [==============================] - 56s 23ms/step - loss: 1.0668 - accuracy: 0.7395 - val_loss: 0.8144 - val_accuracy: 0.7876 - lr: 8.0000e-07\n"
          ]
        }
      ]
    },
    {
      "cell_type": "markdown",
      "source": [
        "Could that be it? Lets evaluate the model..."
      ],
      "metadata": {
        "id": "eu6WzsF9dzgA"
      }
    },
    {
      "cell_type": "code",
      "source": [
        "model.evaluate(test_data)"
      ],
      "metadata": {
        "colab": {
          "base_uri": "https://localhost:8080/"
        },
        "id": "8G11s-gnVS8w",
        "outputId": "418a096f-f974-4641-d6d2-cdf720bef07d"
      },
      "execution_count": 96,
      "outputs": [
        {
          "output_type": "stream",
          "name": "stdout",
          "text": [
            "790/790 [==============================] - 11s 14ms/step - loss: 0.8236 - accuracy: 0.7791\n"
          ]
        },
        {
          "output_type": "execute_result",
          "data": {
            "text/plain": [
              "[0.8235680460929871, 0.779089093208313]"
            ]
          },
          "metadata": {},
          "execution_count": 96
        }
      ]
    },
    {
      "cell_type": "markdown",
      "source": [
        "Nice, finally, let's see how all of the loss curves look like."
      ],
      "metadata": {
        "id": "4Gv_IPRLdpS9"
      }
    },
    {
      "cell_type": "code",
      "source": [
        "compare_histories(history, fine_tune_history, initial_epochs = 3)"
      ],
      "metadata": {
        "colab": {
          "base_uri": "https://localhost:8080/",
          "height": 718
        },
        "id": "mIteOB3tVVgJ",
        "outputId": "8baa6bb1-9ae1-4dcb-acad-bdd3c8ca3146"
      },
      "execution_count": 97,
      "outputs": [
        {
          "output_type": "display_data",
          "data": {
            "text/plain": [
              "<Figure size 800x800 with 2 Axes>"
            ],
            "image/png": "[encoded data removed]"
          },
          "metadata": {}
        }
      ]
    },
    {
      "cell_type": "markdown",
      "source": [
        "Final number of iterations: 130,625"
      ],
      "metadata": {
        "id": "u4L8saeNlTjZ"
      }
    },
    {
      "cell_type": "markdown",
      "source": [
        "## Wrapping up\n",
        "\n",
        "Yes!!! it took more epochs than anticipated but the University of Massachussets's \"DeepFood\" is finally defeated. It only took the model less than an hour, compared to DeepFood's reported 2-3 days.\n",
        "\n",
        "This project is also a testament, aside from my tensorflow skills, to the recent technological advancements. I consider myself by no means better than the people behind the papers whose results I just beat. Machine learning has come a long way, and both of these papers were published prior to the pandemic. Better technology was available to me in comparison to them.\n",
        "\n",
        "I still have a lot to learn when it comes to machine learning. But it is this kind of achievements that make me look forward for the future. Thank you for reading this far."
      ],
      "metadata": {
        "id": "HOA8lkEicpoT"
      }
    }
  ]
}